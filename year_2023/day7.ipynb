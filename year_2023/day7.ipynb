{
 "cells": [
  {
   "cell_type": "markdown",
   "metadata": {},
   "source": [
    "# Advent of code - Day7\n",
    "\n",
    "https://adventofcode.com/2023/day/7"
   ]
  },
  {
   "cell_type": "code",
   "execution_count": 62,
   "metadata": {},
   "outputs": [],
   "source": [
    "import pandas as pd\n",
    "import numpy as np\n",
    "pd.set_option('display.max_columns', None)\n",
    "pd.set_option('display.max_rows', None)\n",
    "pd.set_option('display.expand_frame_repr', True)\n",
    "\n",
    "import re"
   ]
  },
  {
   "cell_type": "markdown",
   "metadata": {},
   "source": [
    "# Part 1"
   ]
  },
  {
   "cell_type": "code",
   "execution_count": 157,
   "metadata": {},
   "outputs": [
    {
     "data": {
      "text/plain": [
       "6440"
      ]
     },
     "execution_count": 157,
     "metadata": {},
     "output_type": "execute_result"
    }
   ],
   "source": [
    "with open(\"day7_input.txt\") as f:\n",
    "    lines = f.read().splitlines() \n",
    "    \n",
    "cards_ranking = {\"A\":95, \"K\":94, \"Q\":93, \"J\":92, \"T\":91, \"9\" : 90, \"8\" : 80, \"7\":70, \"6\":60, \"5\":50, \"4\":40, \"3\":30, \"2\":20}\n",
    "\n",
    "def count_cards(hand):\n",
    "    counts = {}\n",
    "    for card in hand:\n",
    "        if card in counts:\n",
    "            counts[card] += 1\n",
    "        else:\n",
    "            counts[card] = 1\n",
    "\n",
    "    if 5 in counts.values():\n",
    "        return 7 # \"Five of a kind\",\n",
    "    if 4 in counts.values():\n",
    "        return 6 # \"Four of a kind\", \n",
    "    if 3 in counts.values() and 2 in counts.values():\n",
    "        return 5 # \"Full house\"\n",
    "    if 3 in counts.values() and 2 not in counts.values():\n",
    "        return  4 # \"Three of a kind\"\n",
    "    if list(counts.values()).count(2)==2:\n",
    "         return 3 # \"Two pair\"\n",
    "    if list(counts.values()).count(2)==1:\n",
    "        return  2 # \"One pair\",\n",
    "    else:\n",
    "        return  1 # \"High card\",\n",
    "    \n",
    "def get_cards_score(cards):\n",
    "    value = int(str(count_cards(cards))+\"\".join([str(cards_ranking[letter]) for letter in cards]))\n",
    "    return value\n",
    "\n",
    "game = {}\n",
    "for i, line in enumerate(lines):\n",
    "    cards = line.split(\" \")[0]\n",
    "    bid = line.split(\" \")[1]\n",
    "    type_hand = count_cards(cards)\n",
    "    game[i]=[cards, bid, type_hand]\n",
    "\n",
    "sorted_dict = dict(sorted(game.items(), key=lambda item: get_cards_score(item[1][0]), reverse=True))\n",
    "\n",
    "total_winning = 0\n",
    "for index, (key, value) in enumerate(reversed(sorted_dict.items()), start=1):\n",
    "    # print(index, key, value, value[1])\n",
    "    total_winning+= index*int(value[1])\n",
    "total_winning\n"
   ]
  },
  {
   "cell_type": "markdown",
   "metadata": {},
   "source": [
    "# Part 2"
   ]
  },
  {
   "cell_type": "code",
   "execution_count": 224,
   "metadata": {},
   "outputs": [
    {
     "data": {
      "text/plain": [
       "250384185"
      ]
     },
     "execution_count": 224,
     "metadata": {},
     "output_type": "execute_result"
    }
   ],
   "source": [
    "with open(\"day7_input.txt\") as f:\n",
    "    lines = f.read().splitlines() \n",
    "    \n",
    "cards_ranking = {\"A\":95, \"K\":94, \"Q\":93, \"J\":10, \"T\":91, \"9\" : 90, \"8\" : 80, \"7\":70, \"6\":60, \"5\":50, \"4\":40, \"3\":30, \"2\":20}\n",
    "\n",
    "def count_cards(hand):\n",
    "    if hand == \"JJJJJ\":\n",
    "        hand = \"AAAAA\"\n",
    "\n",
    "    counts = {}\n",
    "    for card in hand:\n",
    "        if card in counts:\n",
    "            counts[card] += 1\n",
    "        else:\n",
    "            counts[card] = 1\n",
    "\n",
    "    ### Replace Jokers with highest value\n",
    "    if \"J\" in hand:\n",
    "        # print(\"replacing\", hand)\n",
    "        # print(\"before\", counts)\n",
    "\n",
    "        if max(counts, key=counts.get)==\"J\" and len(set(key for key, value in counts.items() if value == max(counts.values())))==1:\n",
    "            # print(\"case 1\",max(counts, key=counts.get))\n",
    "            counts = dict(sorted(counts.items(), key=lambda item: cards_ranking[item[0]], reverse=True))\n",
    "        else:\n",
    "            # print(\"case 2\")\n",
    "            counts = dict(sorted(counts.items(), key=lambda item: item[1], reverse=True))       \n",
    "        counts[list(key for key, value in counts.items() if key !=\"J\")[0]]+=counts[\"J\"]\n",
    "        counts[\"J\"]=0\n",
    "        # print(\"after\", counts)\n",
    "\n",
    "    # print(counts.values())\n",
    "    if 5 in counts.values():\n",
    "        return 7 # \"Five of a kind\",\n",
    "    if 4 in counts.values():\n",
    "        return 6 # \"Four of a kind\", \n",
    "    if 3 in counts.values() and 2 in counts.values():\n",
    "        return 5 # \"Full house\"\n",
    "    if 3 in counts.values() and 2 not in counts.values():\n",
    "        return  4 # \"Three of a kind\"\n",
    "    if list(counts.values()).count(2)==2:\n",
    "         return 3 # \"Two pair\"\n",
    "    if list(counts.values()).count(2)==1:\n",
    "        return  2 # \"One pair\",\n",
    "    else:\n",
    "        return  1 # \"High card\",\n",
    "    \n",
    "def get_cards_score(cards):\n",
    "    value = int(str(count_cards(cards))+\"\".join([str(cards_ranking[letter]) for letter in cards]))\n",
    "    return value\n",
    "\n",
    "game = {}\n",
    "for i, line in enumerate(lines):\n",
    "    cards = line.split(\" \")[0]\n",
    "    bid = line.split(\" \")[1]\n",
    "    type_hand = count_cards(cards)\n",
    "    game[i]=[cards, bid, type_hand]\n",
    "\n",
    "sorted_dict = dict(sorted(game.items(), key=lambda item: get_cards_score(item[1][0]), reverse=True))\n",
    "\n",
    "total_winning = 0\n",
    "for index, (key, value) in enumerate(reversed(sorted_dict.items()), start=1):\n",
    "    # print(index, key, value, value[1])\n",
    "    total_winning+= index*int(value[1])\n",
    "total_winning"
   ]
  }
 ],
 "metadata": {
  "kernelspec": {
   "display_name": "base",
   "language": "python",
   "name": "python3"
  },
  "language_info": {
   "codemirror_mode": {
    "name": "ipython",
    "version": 3
   },
   "file_extension": ".py",
   "mimetype": "text/x-python",
   "name": "python",
   "nbconvert_exporter": "python",
   "pygments_lexer": "ipython3",
   "version": "3.9.13"
  }
 },
 "nbformat": 4,
 "nbformat_minor": 2
}
