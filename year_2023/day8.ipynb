{
 "cells": [
  {
   "cell_type": "markdown",
   "metadata": {},
   "source": [
    "# Advent of code - Day8\n",
    "\n",
    "https://adventofcode.com/2023/day/8"
   ]
  },
  {
   "cell_type": "code",
   "execution_count": 52,
   "metadata": {},
   "outputs": [],
   "source": [
    "import pandas as pd\n",
    "import numpy as np\n",
    "pd.set_option('display.max_columns', None)\n",
    "pd.set_option('display.max_rows', None)\n",
    "pd.set_option('display.expand_frame_repr', True)\n",
    "\n",
    "import re"
   ]
  },
  {
   "cell_type": "markdown",
   "metadata": {},
   "source": [
    "# Part 1"
   ]
  },
  {
   "cell_type": "code",
   "execution_count": 76,
   "metadata": {},
   "outputs": [
    {
     "data": {
      "text/plain": [
       "14893"
      ]
     },
     "execution_count": 76,
     "metadata": {},
     "output_type": "execute_result"
    }
   ],
   "source": [
    "with open(\"day8_input.txt\") as f:\n",
    "    lines = f.read().splitlines()   \n",
    "\n",
    "instructions = lines[0]\n",
    "def map_string_to_list(input_string, mapping):\n",
    "    return [mapping[char] for char in input_string]\n",
    "\n",
    "input_string = lines[0]\n",
    "char_mapping = {'L': 0, 'R': 1}\n",
    "\n",
    "instructions = map_string_to_list(input_string, char_mapping)\n",
    "\n",
    "map_dict = {}\n",
    "for line in lines[2:]:\n",
    "    strings = re.findall(r'\\b[A-Z0-9]+\\b', line)\n",
    "    map_dict[strings[0]]=[strings[1], strings[2]]\n",
    "\n",
    "start = 'AAA' \n",
    "current_instr_index  = 0\n",
    "nr_steps = 0\n",
    "while start != \"ZZZ\":\n",
    "     # print(start, current_instr_index, nr_steps)\n",
    "     start = map_dict[start][instructions[current_instr_index]]\n",
    "     current_instr_index+=1\n",
    "     if current_instr_index == len(instructions):\n",
    "          current_instr_index = 0\n",
    "     nr_steps+=1\n",
    "nr_steps"
   ]
  },
  {
   "cell_type": "markdown",
   "metadata": {},
   "source": [
    "# Part 2"
   ]
  },
  {
   "cell_type": "code",
   "execution_count": 73,
   "metadata": {},
   "outputs": [],
   "source": [
    "with open(\"day8_input.txt\") as f:\n",
    "    lines = f.read().splitlines()   \n",
    "\n",
    "instructions = lines[0]\n",
    "def map_string_to_list(input_string, mapping):\n",
    "    return [mapping[char] for char in input_string]\n",
    "\n",
    "input_string = lines[0]\n",
    "char_mapping = {'L': 0, 'R': 1}\n",
    "\n",
    "instructions = map_string_to_list(input_string, char_mapping)\n",
    "\n",
    "map_dict = {}\n",
    "for line in lines[2:]:\n",
    "    strings = re.findall(r'\\b[A-Z0-9]+\\b', line)\n",
    "    map_dict[strings[0]]=[strings[1], strings[2]]\n",
    "\n",
    "A_starts = [x for x in map_dict.keys() if x[-1]==\"A\"]\n"
   ]
  },
  {
   "cell_type": "code",
   "execution_count": 74,
   "metadata": {},
   "outputs": [
    {
     "data": {
      "text/plain": [
       "[13207, 22199, 14893, 16579, 20513, 12083]"
      ]
     },
     "execution_count": 74,
     "metadata": {},
     "output_type": "execute_result"
    }
   ],
   "source": [
    "def navigate_one_path(start):\n",
    "    current_instr_index  = 0\n",
    "    nr_steps = 0\n",
    "    while start[-1] != \"Z\":\n",
    "        # print(start, current_instr_index, nr_steps)\n",
    "        start = map_dict[start][instructions[current_instr_index]]\n",
    "        current_instr_index+=1\n",
    "        if current_instr_index == len(instructions):\n",
    "            current_instr_index = 0\n",
    "        nr_steps+=1\n",
    "    return nr_steps\n",
    "\n",
    "nr_steps_all =[]\n",
    "for start in A_starts:\n",
    "    nr_steps_all.append(navigate_one_path(start))\n",
    "nr_steps_all"
   ]
  },
  {
   "cell_type": "code",
   "execution_count": 75,
   "metadata": {},
   "outputs": [
    {
     "data": {
      "text/plain": [
       "10241191004509"
      ]
     },
     "execution_count": 75,
     "metadata": {},
     "output_type": "execute_result"
    }
   ],
   "source": [
    "import math\n",
    "from functools import reduce\n",
    "\n",
    "def lcm(a, b):\n",
    "    return abs(a * b) // math.gcd(a, b)\n",
    "\n",
    "def multiple_lcm(numbers):\n",
    "    return reduce(lambda x, y: lcm(x, y), numbers)\n",
    "\n",
    "numbers_to_find_lcm = nr_steps_all\n",
    "\n",
    "multiple_lcm(numbers_to_find_lcm)"
   ]
  }
 ],
 "metadata": {
  "kernelspec": {
   "display_name": "base",
   "language": "python",
   "name": "python3"
  },
  "language_info": {
   "codemirror_mode": {
    "name": "ipython",
    "version": 3
   },
   "file_extension": ".py",
   "mimetype": "text/x-python",
   "name": "python",
   "nbconvert_exporter": "python",
   "pygments_lexer": "ipython3",
   "version": "3.9.13"
  }
 },
 "nbformat": 4,
 "nbformat_minor": 2
}
