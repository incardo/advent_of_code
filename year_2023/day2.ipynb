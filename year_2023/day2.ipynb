{
 "cells": [
  {
   "cell_type": "markdown",
   "metadata": {},
   "source": [
    "# Advent of code - Day2 \n",
    "https://adventofcode.com/2023/day/2"
   ]
  },
  {
   "cell_type": "code",
   "execution_count": 22,
   "metadata": {},
   "outputs": [],
   "source": [
    "import pandas as pd\n",
    "import numpy as np\n",
    "pd.set_option('display.max_columns', None)\n",
    "pd.set_option('display.max_rows', None)\n",
    "pd.set_option('display.expand_frame_repr', True)\n",
    "\n",
    "import re"
   ]
  },
  {
   "cell_type": "code",
   "execution_count": 45,
   "metadata": {},
   "outputs": [],
   "source": [
    "with open(\"day2_input.txt\") as f:\n",
    "    lines = f.read().splitlines() "
   ]
  },
  {
   "cell_type": "markdown",
   "metadata": {},
   "source": [
    "# Part 1"
   ]
  },
  {
   "cell_type": "code",
   "execution_count": 46,
   "metadata": {},
   "outputs": [
    {
     "data": {
      "text/plain": [
       "1867"
      ]
     },
     "execution_count": 46,
     "metadata": {},
     "output_type": "execute_result"
    }
   ],
   "source": [
    "bag_max = {\"red\": 12, \"green\":13, \"blue\":14}\n",
    "implausible_games = []\n",
    "games = []\n",
    "\n",
    "game_dict = {}\n",
    "for line in lines:\n",
    "    game_id = int(line.split(\":\")[0].split(\" \")[1])\n",
    "    games.append(game_id)\n",
    "\n",
    "    sets = line.split(\":\")[1].split(\";\")\n",
    "    #print(game_id, sets)\n",
    "    \n",
    "    set_dict = {}\n",
    "    for i, sett in enumerate(sets):\n",
    "        extr_dict = {}\n",
    "        for color_extr in sett.split(\",\"):\n",
    "            nr = int(color_extr.split(\" \")[1])\n",
    "            color = color_extr.split(\" \")[2]\n",
    "            if nr > bag_max[color]:\n",
    "                implausible_games.append(game_id)\n",
    "            extr_dict[color]=nr\n",
    "        set_dict[i+1]=extr_dict\n",
    "    game_dict[game_id]=set_dict\n",
    "\n",
    "# print(game_dict)\n",
    "\n",
    "sum(set(games) - set(implausible_games))\n"
   ]
  },
  {
   "cell_type": "markdown",
   "metadata": {},
   "source": [
    "# Part 2"
   ]
  },
  {
   "cell_type": "code",
   "execution_count": 47,
   "metadata": {},
   "outputs": [
    {
     "name": "stdout",
     "output_type": "stream",
     "text": [
      "Final sum 84538\n"
     ]
    }
   ],
   "source": [
    "overall_sum = 0\n",
    "for game_id, game in game_dict.items():\n",
    "    max_blue = 0\n",
    "    max_red = 0\n",
    "    max_green = 0\n",
    "    for sett_nr, sett in game.items():\n",
    "        if \"blue\" in sett.keys():\n",
    "            max_blue = sett[\"blue\"] if sett[\"blue\"]>max_blue else max_blue\n",
    "        if \"red\" in sett.keys():\n",
    "            max_red = sett[\"red\"] if sett[\"red\"]>max_red else max_red\n",
    "        if \"green\" in sett.keys():\n",
    "            max_green= sett[\"green\"] if sett[\"green\"]>max_green else max_green\n",
    "    \n",
    "    # print(\"game_id\", game_id, \"Max colors: \", max_blue, max_red, max_green)\n",
    "    overall_sum += max_blue*max_red*max_green\n",
    "\n",
    "print(\"Final sum\", overall_sum)\n"
   ]
  },
  {
   "cell_type": "markdown",
   "metadata": {},
   "source": []
  }
 ],
 "metadata": {
  "kernelspec": {
   "display_name": "base",
   "language": "python",
   "name": "python3"
  },
  "language_info": {
   "codemirror_mode": {
    "name": "ipython",
    "version": 3
   },
   "file_extension": ".py",
   "mimetype": "text/x-python",
   "name": "python",
   "nbconvert_exporter": "python",
   "pygments_lexer": "ipython3",
   "version": "3.9.13"
  }
 },
 "nbformat": 4,
 "nbformat_minor": 2
}
