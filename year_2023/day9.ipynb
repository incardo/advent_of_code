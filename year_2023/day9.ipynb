{
 "cells": [
  {
   "cell_type": "markdown",
   "metadata": {},
   "source": [
    "# Advent of code - Day9\n",
    "\n",
    "https://adventofcode.com/2023/day/9"
   ]
  },
  {
   "cell_type": "code",
   "execution_count": 1,
   "metadata": {},
   "outputs": [],
   "source": [
    "import pandas as pd\n",
    "import numpy as np\n",
    "pd.set_option('display.max_columns', None)\n",
    "pd.set_option('display.max_rows', None)\n",
    "pd.set_option('display.expand_frame_repr', True)\n",
    "\n",
    "import re"
   ]
  },
  {
   "cell_type": "markdown",
   "metadata": {},
   "source": [
    "# Part 1"
   ]
  },
  {
   "cell_type": "code",
   "execution_count": 48,
   "metadata": {},
   "outputs": [
    {
     "data": {
      "text/plain": [
       "1479011877"
      ]
     },
     "execution_count": 48,
     "metadata": {},
     "output_type": "execute_result"
    }
   ],
   "source": [
    "with open(\"day9_input.txt\") as f:\n",
    "    lines = f.read().splitlines()\n",
    "\n",
    "history =[]\n",
    "for line in lines:\n",
    "    history.append([int(x) for x in line.split(\" \")])\n",
    "\n",
    "def find_diff(numbers_list):\n",
    "    differences = [numbers_list[i] - numbers_list[i - 1] for i in range(1, len(numbers_list))]\n",
    "    return differences\n",
    "\n",
    "def find_forecast(number_list):\n",
    "    diff_list = [number_list]\n",
    "    numbers_list = number_list\n",
    "    while sum(numbers_list):\n",
    "        differences = find_diff(numbers_list)\n",
    "        diff_list.append(differences)\n",
    "        numbers_list = differences\n",
    "\n",
    "    diff_list_sorted = list(reversed(diff_list))\n",
    "    for i, diff in enumerate(diff_list_sorted):\n",
    "        if sum(diff) == 0:\n",
    "            diff.append(0)\n",
    "        else:\n",
    "            diff.append(diff[-1]+diff_list_sorted[i-1][-1])\n",
    "    return diff_list_sorted[-1][-1]\n",
    "\n",
    "sum_forecasts = 0\n",
    "for line in history:\n",
    "    sum_forecasts+= find_forecast(line)\n",
    "sum_forecasts\n"
   ]
  },
  {
   "cell_type": "markdown",
   "metadata": {},
   "source": [
    "# Part 2"
   ]
  },
  {
   "cell_type": "code",
   "execution_count": 65,
   "metadata": {},
   "outputs": [
    {
     "data": {
      "text/plain": [
       "973"
      ]
     },
     "execution_count": 65,
     "metadata": {},
     "output_type": "execute_result"
    }
   ],
   "source": [
    "with open(\"day9_input.txt\") as f:\n",
    "    lines = f.read().splitlines()\n",
    "\n",
    "history =[]\n",
    "for line in lines:\n",
    "    history.append([int(x) for x in line.split(\" \")])\n",
    "\n",
    "def find_diff(numbers_list):\n",
    "    differences = [numbers_list[i] - numbers_list[i - 1] for i in range(1, len(numbers_list))]\n",
    "    return differences\n",
    "\n",
    "def find_backforecast(number_list):\n",
    "    diff_list = [number_list]\n",
    "    numbers_list = number_list\n",
    "    while sum(numbers_list):\n",
    "        differences = find_diff(numbers_list)\n",
    "        diff_list.append(differences)\n",
    "        numbers_list = differences\n",
    "\n",
    "    diff_list_sorted = list(reversed(diff_list))\n",
    "    for i, diff in enumerate(diff_list_sorted):\n",
    "        if sum(diff) == 0:\n",
    "            diff_list_sorted[i] = [0]+diff # Put the number at the beginning\n",
    "        else:\n",
    "            diff_list_sorted[i] = [diff[0]-diff_list_sorted[i-1][0]]+diff\n",
    "    \n",
    "    return diff_list_sorted[-1][0]\n",
    "\n",
    "sum_forecasts = 0\n",
    "for line in history:\n",
    "    sum_forecasts+= find_backforecast(line)\n",
    "sum_forecasts\n"
   ]
  }
 ],
 "metadata": {
  "kernelspec": {
   "display_name": "base",
   "language": "python",
   "name": "python3"
  },
  "language_info": {
   "codemirror_mode": {
    "name": "ipython",
    "version": 3
   },
   "file_extension": ".py",
   "mimetype": "text/x-python",
   "name": "python",
   "nbconvert_exporter": "python",
   "pygments_lexer": "ipython3",
   "version": "3.9.13"
  }
 },
 "nbformat": 4,
 "nbformat_minor": 2
}
