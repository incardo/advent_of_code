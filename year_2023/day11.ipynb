{
 "cells": [
  {
   "cell_type": "markdown",
   "metadata": {},
   "source": [
    "# Advent of code - Day11\n",
    "\n",
    "https://adventofcode.com/2023/day/11"
   ]
  },
  {
   "cell_type": "code",
   "execution_count": 48,
   "metadata": {},
   "outputs": [],
   "source": [
    "import pandas as pd\n",
    "import numpy as np\n",
    "pd.set_option('display.max_columns', None)\n",
    "pd.set_option('display.max_rows', None)\n",
    "pd.set_option('display.expand_frame_repr', True)\n",
    "\n",
    "import re\n",
    "from scipy.sparse import csr_matrix, vstack, hstack\n"
   ]
  },
  {
   "cell_type": "markdown",
   "metadata": {},
   "source": [
    "# Part 1"
   ]
  },
  {
   "cell_type": "code",
   "execution_count": 49,
   "metadata": {},
   "outputs": [
    {
     "name": "stdout",
     "output_type": "stream",
     "text": [
      "10292708\n"
     ]
    }
   ],
   "source": [
    "def read_matrix_from_file(file_path):\n",
    "    with open(file_path, 'r') as file:\n",
    "        input_text = file.read()\n",
    "        lines = input_text.strip().split('\\n')\n",
    "        matrix = [list(line) for line in lines]\n",
    "        numpy_matrix = np.array(matrix)\n",
    "        return numpy_matrix\n",
    "\n",
    "space = read_matrix_from_file(\"day11_input.txt\")\n",
    "rows_indices = np.where(np.all(space == \".\", axis=1))[0]\n",
    "cols_indices = np.where( np.all(space == \".\", axis=0))[0]\n",
    "\n",
    "add_index = 0\n",
    "for row in  rows_indices:\n",
    "    space = np.insert(space, row+add_index, \".\", axis=0)\n",
    "    add_index+=1\n",
    "\n",
    "add_index = 0\n",
    "for col in cols_indices:\n",
    "    space = np.insert(space, col+add_index, \".\", axis=1)\n",
    "    add_index+=1\n",
    "\n",
    "## Replace galaxies\n",
    "counter = 1\n",
    "for x in range(0, space.shape[0]):\n",
    "    for y in range(0, space.shape[1]):\n",
    "        if space[x, y] == \"#\":\n",
    "            space[x,y] = counter\n",
    "            counter+=1\n",
    "\n",
    "def get_positions_of_numbers(matrix):\n",
    "    positions = np.column_stack(np.where(np.char.isnumeric(matrix)))\n",
    "    return positions\n",
    "\n",
    "galaxies_pos = get_positions_of_numbers(space)\n",
    "\n",
    "def shortest_distance(x1, y1, x2, y2):\n",
    "    # Calculate the Manhattan distance\n",
    "    return abs(x1 - x2) + abs(y1 - y2)\n",
    "\n",
    "shortest_distances = []\n",
    "n = len(galaxies_pos)\n",
    "for i in range(n - 1):\n",
    "    for j in range(i + 1, n):\n",
    "        x1 = galaxies_pos[i][0]\n",
    "        y1 = galaxies_pos[i][1]\n",
    "        x2 = galaxies_pos[j][0]\n",
    "        y2 = galaxies_pos[j][1]\n",
    "        # print(\"Checking galaxies\", space[x1,y1], space[x2, y2])\n",
    "        shortest_distances.append(shortest_distance(x1, y1, x2, y2))\n",
    "        # print(shortest_distance(x1, y1, x2, y2))\n",
    "\n",
    "print(sum(shortest_distances))"
   ]
  },
  {
   "cell_type": "markdown",
   "metadata": {},
   "source": [
    "## Part 2"
   ]
  },
  {
   "cell_type": "code",
   "execution_count": 50,
   "metadata": {},
   "outputs": [
    {
     "name": "stdout",
     "output_type": "stream",
     "text": [
      "10292708\n",
      "790194712336\n"
     ]
    }
   ],
   "source": [
    "def read_matrix_from_file(file_path):\n",
    "    with open(file_path, 'r') as file:\n",
    "        input_text = file.read()\n",
    "        lines = input_text.strip().split('\\n')\n",
    "        matrix = [list(line) for line in lines]\n",
    "        numpy_matrix = np.array(matrix)\n",
    "        return numpy_matrix\n",
    "\n",
    "space = read_matrix_from_file(\"day11_input.txt\")\n",
    "rows_indices = np.where(np.all(space == \".\", axis=1))[0]\n",
    "cols_indices = np.where( np.all(space == \".\", axis=0))[0]\n",
    "\n",
    "## Replace galaxies\n",
    "counter = 1\n",
    "for x in range(0, space.shape[0]):\n",
    "    for y in range(0, space.shape[1]):\n",
    "        if space[x, y] == \"#\":\n",
    "            space[x,y] = counter\n",
    "            counter+=1\n",
    "\n",
    "distances = 0\n",
    "exp_counts = 0\n",
    "\n",
    "def get_positions_of_numbers(matrix):\n",
    "    positions = np.column_stack(np.where(np.char.isnumeric(matrix)))\n",
    "    return positions\n",
    "\n",
    "galaxies_pos = get_positions_of_numbers(space)\n",
    "\n",
    "def shortest_distance(x1, y1, x2, y2, expansion):\n",
    "    # Calculate the Manhattan distance\n",
    "    return abs(x1 - x2) + abs(y1 - y2)+ expansion\n",
    "\n",
    "shortest_distances_new = []\n",
    "n = len(galaxies_pos)\n",
    "distances = 0\n",
    "exp_counts = 0\n",
    "\n",
    "for i in range(n - 1):\n",
    "    for j in range(i + 1, n):\n",
    "        x1 = galaxies_pos[i][0]\n",
    "        y1 = galaxies_pos[i][1]\n",
    "        x2 = galaxies_pos[j][0]\n",
    "        y2 = galaxies_pos[j][1]\n",
    "        # print(\"Checking galaxies\", space[x1,y1], space[x2, y2])\n",
    "        expansion = 0\n",
    "        expansion += sum(x in rows_indices for x in range(min(x1, x2), max(x1, x2)))\n",
    "        expansion += sum(y in cols_indices for y in range(min(y1, y2), max(y1, y2)))\n",
    "        exp_counts += expansion\n",
    "        shortest_distances_new.append(shortest_distance(x1, y1, x2, y2, expansion))\n",
    "        # print(shortest_distance(x1, y1, x2, y2))\n",
    "\n",
    "print(sum(shortest_distances_new))\n",
    "print(sum(shortest_distances_new) + exp_counts * 999998)"
   ]
  }
 ],
 "metadata": {
  "kernelspec": {
   "display_name": "base",
   "language": "python",
   "name": "python3"
  },
  "language_info": {
   "codemirror_mode": {
    "name": "ipython",
    "version": 3
   },
   "file_extension": ".py",
   "mimetype": "text/x-python",
   "name": "python",
   "nbconvert_exporter": "python",
   "pygments_lexer": "ipython3",
   "version": "3.10.10"
  }
 },
 "nbformat": 4,
 "nbformat_minor": 2
}
