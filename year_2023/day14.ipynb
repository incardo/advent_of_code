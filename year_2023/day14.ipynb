{
 "cells": [
  {
   "cell_type": "markdown",
   "metadata": {},
   "source": [
    "# Advent of code - Day14\n",
    "https://adventofcode.com/2023/day/14"
   ]
  },
  {
   "cell_type": "code",
   "execution_count": 3,
   "metadata": {},
   "outputs": [],
   "source": [
    "import pandas as pd\n",
    "import numpy as np\n",
    "pd.set_option('display.max_columns', None)\n",
    "pd.set_option('display.max_rows', None)\n",
    "pd.set_option('display.expand_frame_repr', True)\n",
    "\n",
    "import re\n",
    "from tqdm import tqdm\n"
   ]
  },
  {
   "cell_type": "markdown",
   "metadata": {},
   "source": [
    "# Part 1"
   ]
  },
  {
   "cell_type": "code",
   "execution_count": 4,
   "metadata": {},
   "outputs": [
    {
     "name": "stdout",
     "output_type": "stream",
     "text": [
      "110779\n"
     ]
    }
   ],
   "source": [
    "def read_matrix_from_file(file_path):\n",
    "    with open(file_path, 'r') as file:\n",
    "        input_text = file.read()\n",
    "        lines = input_text.strip().split('\\n')\n",
    "        matrix = [list(line) for line in lines]\n",
    "        numpy_matrix = np.array(matrix)\n",
    "        return numpy_matrix\n",
    "\n",
    "platform = read_matrix_from_file(\"day14_input.txt\")\n",
    "\n",
    "def move_rock_north(platform, x, y):\n",
    "    current= platform[x, y]\n",
    "    if current==\"O\":\n",
    "        if x-1>=0:\n",
    "            prev_north = platform[x-1, y]\n",
    "            if prev_north==\".\":\n",
    "                #print(\"Moving rock to prev\", \"coord\", x, y)\n",
    "                platform[x-1, y]=current\n",
    "                platform[x, y] = \".\"\n",
    "                #display(platform)\n",
    "                move_rock_north(platform, x-1, y)\n",
    "            elif prev_north==\"#\" or prev_north==\"O\":\n",
    "                pass\n",
    "                #print(\"not moving further\")\n",
    "            \n",
    "\n",
    "platform_titled =platform.copy()\n",
    "for x in range(1, platform.shape[0]):\n",
    "    for y in range(0, platform.shape[1]):\n",
    "        move_rock_north(platform_titled, x, y)\n",
    "\n",
    "total_load = 0\n",
    "for x in range(0, platform_titled.shape[0]):\n",
    "    weight = platform_titled.shape[0]-x\n",
    "    total_load+=weight*len(np.where(platform_titled[x]==\"O\")[0])\n",
    "print(total_load)"
   ]
  },
  {
   "cell_type": "markdown",
   "metadata": {},
   "source": [
    "# Part 2"
   ]
  },
  {
   "cell_type": "code",
   "execution_count": 435,
   "metadata": {},
   "outputs": [],
   "source": [
    "def read_matrix_from_file(file_path):\n",
    "    with open(file_path, 'r') as file:\n",
    "        input_text = file.read()\n",
    "        lines = input_text.strip().split('\\n')\n",
    "        matrix = [list(line) for line in lines]\n",
    "        numpy_matrix = np.array(matrix)\n",
    "        return numpy_matrix\n",
    "\n",
    "platform = read_matrix_from_file(\"day14_input.txt\")\n",
    "\n",
    "def move_rock_north(platform, x, y):\n",
    "    current= platform[x, y]\n",
    "    if current==\"O\":\n",
    "        if x-1>=0:\n",
    "            prev_north = platform[x-1, y]\n",
    "            if prev_north==\".\":\n",
    "                #print(\"Moving rock to prev\", \"coord\", x, y)\n",
    "                platform[x-1, y]=current\n",
    "                platform[x, y] = \".\"\n",
    "                #display(platform)\n",
    "                move_rock_north(platform, x-1, y)\n",
    "            elif prev_north==\"#\" or prev_north==\"O\":\n",
    "                pass\n",
    "                #print(\"not moving further\")\n",
    "    return platform\n",
    "\n",
    "def move_rock_west(platform, x, y):\n",
    "    current= platform[x, y]\n",
    "    if current==\"O\":\n",
    "        if y-1>=0:\n",
    "            prev_west = platform[x, y-1]\n",
    "            if prev_west==\".\":\n",
    "                #print(\"Moving rock to prev\", \"coord\", x, y)\n",
    "                platform[x, y-1]=current\n",
    "                platform[x, y] = \".\"\n",
    "                #display(platform)\n",
    "                move_rock_west(platform, x, y-1)\n",
    "            elif prev_west==\"#\" or prev_west==\"O\":\n",
    "                pass\n",
    "                #print(\"not moving further\")\n",
    "    return platform\n",
    "        \n",
    "def move_rock_east(platform, x, y):\n",
    "    current= platform[x, y]\n",
    "    if current==\"O\":\n",
    "        if y+1<platform.shape[1]:\n",
    "            prev_east = platform[x, y+1]\n",
    "            if prev_east==\".\":\n",
    "                #print(\"Moving rock to prev\", \"coord\", x, y)\n",
    "                platform[x, y+1]=current\n",
    "                platform[x, y] = \".\"\n",
    "                #display(platform)\n",
    "                move_rock_east(platform, x, y+1)\n",
    "            elif prev_east==\"#\" or prev_east==\"O\":\n",
    "                pass\n",
    "                #print(\"not moving further\")\n",
    "    return platform\n",
    "\n",
    "def move_rock_south(platform, x, y):\n",
    "    current= platform[x, y]\n",
    "    if current==\"O\":\n",
    "        if x+1<platform.shape[0]:\n",
    "            prev_south = platform[x+1, y]\n",
    "            if prev_south==\".\":\n",
    "                #print(\"Moving rock to prev\", \"coord\", x, y)\n",
    "                platform[x+1, y]=current\n",
    "                platform[x, y] = \".\"\n",
    "                #display(platform)\n",
    "                move_rock_south(platform, x+1, y)\n",
    "            elif prev_south==\"#\" or prev_south==\"O\":\n",
    "                pass\n",
    "                #print(\"not moving further\")\n",
    "    return platform\n",
    "\n",
    "def run_one_cycle(platform_titled):\n",
    "    for x in range(0, platform_titled.shape[0]):\n",
    "        for y in range(0, platform_titled.shape[1]):\n",
    "            platform_titled = move_rock_north(platform_titled, x, y)\n",
    "    #print(\"North\")\n",
    "    #display(platform_titled)\n",
    "    for x in range(0, platform_titled.shape[0]):\n",
    "        for y in range(0, platform_titled.shape[1]):\n",
    "            platform_titled = move_rock_west(platform_titled, x, y)\n",
    "    #print(\"west\")\n",
    "    #display(platform_titled)\n",
    "    for x in reversed(range(0, platform_titled.shape[0])):\n",
    "        for y in range(0, platform_titled.shape[1]):\n",
    "            platform_titled = move_rock_south(platform_titled, x, y)\n",
    "    #print(\"south\")\n",
    "    #display(platform_titled)\n",
    "    for x in range(0, platform_titled.shape[0]):\n",
    "        for y in reversed(range(0, platform_titled.shape[1])):\n",
    "            platform_titled = move_rock_east(platform_titled, x, y)\n",
    "    #print(\"east\")\n",
    "    return platform_titled\n",
    "\n",
    "def calculate_load(platform_titled):\n",
    "    total_load = 0\n",
    "    for x in range(0, platform_titled.shape[0]):\n",
    "        weight = platform_titled.shape[0]-x\n",
    "        total_load+=weight*len(np.where(platform_titled[x]==\"O\")[0])\n",
    "    #print(\"Load\", total_load)\n",
    "    return total_load"
   ]
  },
  {
   "cell_type": "code",
   "execution_count": 437,
   "metadata": {},
   "outputs": [
    {
     "name": "stdout",
     "output_type": "stream",
     "text": [
      "86069\n"
     ]
    }
   ],
   "source": [
    "platform = read_matrix_from_file(\"day14_input.txt\")\n",
    "\n",
    "seen_list = []\n",
    "cycle_loop = []\n",
    "platform_titled = platform.copy()\n",
    "nr_times = 1000000000\n",
    "\n",
    "for current_cycle in range(1, nr_times+1):\n",
    "    platform_titled = run_one_cycle(platform_titled)\n",
    "    platform_titled_list = platform_titled.tolist()\n",
    "\n",
    "    if platform_titled_list in seen_list:\n",
    "        index = seen_list.index(platform_titled_list)\n",
    "        cycle_loop = seen_list[index:]\n",
    "        remaining_cycles = nr_times - current_cycle\n",
    "        index_billionth = remaining_cycles % len(cycle_loop)\n",
    "        print(calculate_load(np.array(cycle_loop[index_billionth])))\n",
    "        break\n",
    "\n",
    "    seen_list.append(platform_titled_list)"
   ]
  }
 ],
 "metadata": {
  "kernelspec": {
   "display_name": "base",
   "language": "python",
   "name": "python3"
  },
  "language_info": {
   "codemirror_mode": {
    "name": "ipython",
    "version": 3
   },
   "file_extension": ".py",
   "mimetype": "text/x-python",
   "name": "python",
   "nbconvert_exporter": "python",
   "pygments_lexer": "ipython3",
   "version": "3.9.13"
  }
 },
 "nbformat": 4,
 "nbformat_minor": 2
}
