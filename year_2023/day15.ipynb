{
 "cells": [
  {
   "cell_type": "markdown",
   "metadata": {},
   "source": [
    "# Advent of code - Day15\n",
    "https://adventofcode.com/2023/day/15"
   ]
  },
  {
   "cell_type": "code",
   "execution_count": 83,
   "metadata": {},
   "outputs": [],
   "source": [
    "import pandas as pd\n",
    "import numpy as np\n",
    "pd.set_option('display.max_columns', None)\n",
    "pd.set_option('display.max_rows', None)\n",
    "pd.set_option('display.expand_frame_repr', True)\n",
    "\n",
    "import re\n",
    "from tqdm import tqdm\n"
   ]
  },
  {
   "cell_type": "markdown",
   "metadata": {},
   "source": [
    "# Part 1"
   ]
  },
  {
   "cell_type": "code",
   "execution_count": 84,
   "metadata": {},
   "outputs": [
    {
     "data": {
      "text/plain": [
       "510801"
      ]
     },
     "execution_count": 84,
     "metadata": {},
     "output_type": "execute_result"
    }
   ],
   "source": [
    "with open(\"day15_input.txt\", 'r') as file:\n",
    "    input_text = file.read()\n",
    "    sequence = input_text.strip().split(',')\n",
    "    \n",
    "def update_current_value(mystring):\n",
    "    current_value = 0\n",
    "    for char in mystring:\n",
    "        current_value+=ord(char)\n",
    "        current_value=current_value*17\n",
    "        current_value = current_value%256\n",
    "    return current_value\n",
    "\n",
    "current_value= 0\n",
    "for string in sequence:\n",
    "    #print(string, update_current_value(string))\n",
    "    current_value += update_current_value(string)\n",
    "current_value"
   ]
  },
  {
   "cell_type": "markdown",
   "metadata": {},
   "source": [
    "# Part 2"
   ]
  },
  {
   "cell_type": "code",
   "execution_count": 85,
   "metadata": {},
   "outputs": [
    {
     "data": {
      "text/plain": [
       "212763"
      ]
     },
     "execution_count": 85,
     "metadata": {},
     "output_type": "execute_result"
    }
   ],
   "source": [
    "boxes_dict = {}\n",
    "for nr in range(0, 256):\n",
    "    boxes_dict[nr]=[]\n",
    "\n",
    "for instr in sequence:\n",
    "    label = re.split(\"=|-\", instr)[0]\n",
    "    box= update_current_value(label)\n",
    "    focal= re.split(\"=|-\", instr)[1]\n",
    "    operation = re.findall(\"=|-\", instr)[0]\n",
    "\n",
    "    #print(\"instr\", instr, \"box:\",box, \"label\", label, \"focal\", focal, \"op\", operation)\n",
    "    if operation == \"=\":\n",
    "        #print(\"Adding \")\n",
    "        label_in_box = False\n",
    "        for i , x in  enumerate(boxes_dict[box]):\n",
    "            if label in x[0]:\n",
    "                #print(\"Replacing box\")\n",
    "                boxes_dict[box][i]= [label +\" \"+focal]\n",
    "                label_in_box = True\n",
    "                break\n",
    "        if label_in_box == False:\n",
    "            boxes_dict[box].append([label +\" \"+focal])\n",
    "    else:\n",
    "        #print(\"Removing \", label)\n",
    "        boxes_dict[box] = [x for x in boxes_dict[box] if label not in x[0]]\n",
    "    #display(boxes_dict[box])\n",
    "        \n",
    "focusing_power = 0\n",
    "for box, lenses in boxes_dict.items():\n",
    "    for i, lens in enumerate(lenses):\n",
    "        focal = lens[0].split(\" \")[1]\n",
    "        #print((box+1), (i+1), int(focal ))\n",
    "        focusing_power+= (box+1)*(i+1)*int(focal )\n",
    "\n",
    "focusing_power"
   ]
  }
 ],
 "metadata": {
  "kernelspec": {
   "display_name": "base",
   "language": "python",
   "name": "python3"
  },
  "language_info": {
   "codemirror_mode": {
    "name": "ipython",
    "version": 3
   },
   "file_extension": ".py",
   "mimetype": "text/x-python",
   "name": "python",
   "nbconvert_exporter": "python",
   "pygments_lexer": "ipython3",
   "version": "3.9.13"
  }
 },
 "nbformat": 4,
 "nbformat_minor": 2
}
