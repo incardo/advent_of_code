{
 "cells": [
  {
   "cell_type": "code",
   "execution_count": 2,
   "metadata": {},
   "outputs": [],
   "source": [
    "import pandas as pd\n",
    "import numpy as np\n",
    "pd.set_option('display.max_columns', None)\n",
    "pd.set_option('display.max_rows', None)\n",
    "pd.set_option('display.expand_frame_repr', True)\n",
    "\n",
    "import re"
   ]
  },
  {
   "cell_type": "markdown",
   "metadata": {},
   "source": [
    "### Part 1"
   ]
  },
  {
   "cell_type": "code",
   "execution_count": 102,
   "metadata": {},
   "outputs": [
    {
     "name": "stdout",
     "output_type": "stream",
     "text": [
      "56506\n"
     ]
    }
   ],
   "source": [
    "with open(\"day1_input.txt\") as f:\n",
    "    lines = f.read().splitlines() \n",
    "\n",
    "calibration_value = 0\n",
    "for line in lines:\n",
    "    digits = \"\".join(re.findall(r'\\d+', line))\n",
    "    first_digit = digits[0]\n",
    "    last_digit = digits[-1]\n",
    "    calibration_value += int(\"\".join([first_digit, last_digit]))\n",
    "print(calibration_value)"
   ]
  },
  {
   "cell_type": "markdown",
   "metadata": {},
   "source": [
    "### Part 2"
   ]
  },
  {
   "cell_type": "code",
   "execution_count": 3,
   "metadata": {},
   "outputs": [
    {
     "name": "stdout",
     "output_type": "stream",
     "text": [
      "56017\n"
     ]
    }
   ],
   "source": [
    "with open(\"day1_input.txt\") as f:\n",
    "    lines = f.read().splitlines() \n",
    "\n",
    "map_dict = {\n",
    "    'one': 1, '1': 1,\n",
    "    'two': 2, '2': 2,\n",
    "    'three': 3, '3': 3,\n",
    "    'four': 4, '4': 4,\n",
    "    'five': 5, '5': 5,\n",
    "    'six': 6, '6': 6,\n",
    "    'seven': 7, '7': 7,\n",
    "    'eight': 8, '8': 8,\n",
    "    'nine': 9, '9': 9\n",
    "}\n",
    "\n",
    "calibration_value = 0\n",
    "for line in lines:\n",
    "    values = [map_dict[v] for v in re.findall(f'(?=({\"|\".join(map_dict)}))', line)]\n",
    "    calibration_value += values[0] * 10 + values[-1]\n",
    "print(calibration_value)"
   ]
  },
  {
   "cell_type": "markdown",
   "metadata": {},
   "source": []
  }
 ],
 "metadata": {
  "kernelspec": {
   "display_name": "base",
   "language": "python",
   "name": "python3"
  },
  "language_info": {
   "codemirror_mode": {
    "name": "ipython",
    "version": 3
   },
   "file_extension": ".py",
   "mimetype": "text/x-python",
   "name": "python",
   "nbconvert_exporter": "python",
   "pygments_lexer": "ipython3",
   "version": "3.10.10"
  }
 },
 "nbformat": 4,
 "nbformat_minor": 2
}
