{
 "cells": [
  {
   "cell_type": "markdown",
   "metadata": {},
   "source": [
    "# Advent of code - Day12\n",
    "\n",
    "https://adventofcode.com/2023/day/12"
   ]
  },
  {
   "cell_type": "code",
   "execution_count": 1,
   "metadata": {},
   "outputs": [],
   "source": [
    "import pandas as pd\n",
    "import numpy as np\n",
    "pd.set_option('display.max_columns', None)\n",
    "pd.set_option('display.max_rows', None)\n",
    "pd.set_option('display.expand_frame_repr', True)\n",
    "\n",
    "import re\n",
    "from tqdm import tqdm\n"
   ]
  },
  {
   "cell_type": "markdown",
   "metadata": {},
   "source": [
    "# Part 1"
   ]
  },
  {
   "cell_type": "code",
   "execution_count": 19,
   "metadata": {},
   "outputs": [],
   "source": [
    "with open(\"day12_input.txt\") as f:\n",
    "    lines = f.read().splitlines()\n",
    "\n",
    "spring_conditions = []\n",
    "for i, line in enumerate(lines):\n",
    "    spring_conditions.append(line.split(\" \"))\n",
    "    spring_conditions[i][1] = [int(x) for x in spring_conditions[i][1].split(\",\")]\n",
    "#spring_conditions\n",
    "    "
   ]
  },
  {
   "cell_type": "code",
   "execution_count": 45,
   "metadata": {},
   "outputs": [
    {
     "name": "stdout",
     "output_type": "stream",
     "text": [
      "Checking total lines 1000\n"
     ]
    },
    {
     "name": "stderr",
     "output_type": "stream",
     "text": [
      "Loading...: 1000it [00:24, 40.58it/s]"
     ]
    },
    {
     "name": "stdout",
     "output_type": "stream",
     "text": [
      "Final 7716\n"
     ]
    },
    {
     "name": "stderr",
     "output_type": "stream",
     "text": [
      "\n"
     ]
    }
   ],
   "source": [
    "def generate_combinations(s):\n",
    "    if '?' not in s:\n",
    "        return [s]\n",
    "    \n",
    "    i = s.index('?')\n",
    "    \n",
    "    with_dot = s[:i] + '.' + s[i+1:]\n",
    "    with_hash = s[:i] + '#' + s[i+1:]\n",
    "    \n",
    "    combinations_with_dot = generate_combinations(with_dot)\n",
    "    combinations_with_hash = generate_combinations(with_hash)\n",
    "    \n",
    "    return combinations_with_dot + combinations_with_hash\n",
    "\n",
    "def check_combination(combination, criteria):\n",
    "    if [len(x) for x in re.compile(r'#+').findall(combination)] ==  criteria:\n",
    "        return True\n",
    "    else:\n",
    "        return False\n",
    "\n",
    "total_combinations = 0\n",
    "print(\"Checking total lines\", len(spring_conditions))\n",
    "for i, line in tqdm(enumerate(spring_conditions), desc=\"Loading...\"):\n",
    "    input_string = line[0]\n",
    "    criteria = line[1]\n",
    "    combinations = generate_combinations(input_string)\n",
    "\n",
    "    count_combinations = 0\n",
    "    for combination in combinations:\n",
    "        count_combinations += check_combination(combination, criteria)\n",
    "    # print(count_combinations)\n",
    "    total_combinations+=count_combinations\n",
    "\n",
    "print(\"Final\", total_combinations) "
   ]
  },
  {
   "cell_type": "markdown",
   "metadata": {},
   "source": [
    "# Part 2"
   ]
  },
  {
   "cell_type": "code",
   "execution_count": 44,
   "metadata": {},
   "outputs": [
    {
     "name": "stdout",
     "output_type": "stream",
     "text": [
      "7716\n",
      "18716325559999\n"
     ]
    }
   ],
   "source": [
    "from functools import cache\n",
    "\n",
    "@cache\n",
    "def count_combinations(combination, criteria, value_criteria=0):\n",
    "    if not combination:\n",
    "        #print(\"Not valid combination\")\n",
    "        return not criteria and not value_criteria\n",
    "    n = 0\n",
    "    if combination[0] in (\"#\", \"?\"): \n",
    "        # if first character is a # we should keep checking the first group and the first criteria... recursively\n",
    "        # print(\"Expand question mark\", combination, criteria, value_criteria, n)\n",
    "        n += count_combinations(combination[1:], criteria, value_criteria + 1) # increse current counting by one\n",
    "    if combination[0] in (\".\", \"?\") and (criteria and criteria[0] == value_criteria or not value_criteria):\n",
    "        # only valid combinations are passed, ie, criteria is present, value of the counter is matched or if we did not find #\n",
    "        #print(\"Move forward - criteria completed, start new block\", combination, criteria, value_criteria, n)\n",
    "        n += count_combinations(combination[1:], criteria[1:] if value_criteria else criteria)\n",
    "    return n\n",
    "\n",
    "with open(\"day12_input.txt\") as f:\n",
    "    ls = [l.split() for l in f.read().splitlines()]\n",
    "ls = [(p, tuple(int(n) for n in s.split(\",\"))) for p, s in ls]\n",
    "\n",
    "print(sum(count_combinations(p + \".\", s, 0) for p, s in ls))\n",
    "print(sum(count_combinations(\"?\".join([p] * 5) + \".\", s * 5) for p, s in ls))\n"
   ]
  },
  {
   "cell_type": "markdown",
   "metadata": {},
   "source": [
    "Reference: https://www.youtube.com/watch?v=g3Ms5e7Jdqo&ab_channel=HyperNeutrino"
   ]
  }
 ],
 "metadata": {
  "kernelspec": {
   "display_name": "base",
   "language": "python",
   "name": "python3"
  },
  "language_info": {
   "codemirror_mode": {
    "name": "ipython",
    "version": 3
   },
   "file_extension": ".py",
   "mimetype": "text/x-python",
   "name": "python",
   "nbconvert_exporter": "python",
   "pygments_lexer": "ipython3",
   "version": "3.9.13"
  }
 },
 "nbformat": 4,
 "nbformat_minor": 2
}
