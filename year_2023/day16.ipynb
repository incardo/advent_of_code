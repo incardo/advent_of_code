{
 "cells": [
  {
   "cell_type": "markdown",
   "metadata": {},
   "source": [
    "# Advent of code - Day16\n",
    "https://adventofcode.com/2023/day/16"
   ]
  },
  {
   "cell_type": "code",
   "execution_count": 14,
   "metadata": {},
   "outputs": [],
   "source": [
    "import pandas as pd\n",
    "import numpy as np\n",
    "pd.set_option('display.max_columns', None)\n",
    "pd.set_option('display.max_rows', None)\n",
    "pd.set_option('display.expand_frame_repr', True)\n",
    "\n",
    "import re\n",
    "from tqdm import tqdm\n"
   ]
  },
  {
   "cell_type": "markdown",
   "metadata": {},
   "source": [
    "# Part 1"
   ]
  },
  {
   "cell_type": "code",
   "execution_count": 41,
   "metadata": {},
   "outputs": [
    {
     "name": "stdout",
     "output_type": "stream",
     "text": [
      "Part 1: 8125\n"
     ]
    }
   ],
   "source": [
    "with open('day16_input.txt', 'r') as f:\n",
    "    puzzle_input = f.read()\n",
    "\n",
    "def part1(puzzle_input):\n",
    "\n",
    "    grid = [list(r) for r in puzzle_input.split('\\n')]\n",
    "    m, n = len(grid), len(grid[0])\n",
    "    visited = set()\n",
    "    energized = set()\n",
    "    queue = set([(0, 0, 'right')])   \n",
    "    while queue:\n",
    "        x, y, direction = queue.pop()\n",
    "        energized.add((x, y))\n",
    "        tile = grid[x][y]\n",
    "\n",
    "        if y < n-1 and (x, y+1, 'right') not in visited and (\n",
    "                (direction == 'right' and tile in '.-') or \n",
    "                (direction == 'up' and tile in '/-') or\n",
    "                (direction == 'down' and tile in '\\\\-')):\n",
    "            queue.add((x, y+1, 'right'))\n",
    "            visited.add((x, y+1, 'right'))\n",
    "\n",
    "        if x > 0 and (x-1, y, 'up') not in visited and (\n",
    "                (direction == 'up' and tile in '.|') or \n",
    "                (direction == 'right' and tile in '/|') or\n",
    "                (direction == 'left' and tile in '\\\\|')):\n",
    "            queue.add((x-1, y, 'up'))\n",
    "            visited.add((x-1, y, 'up'))\n",
    "\n",
    "        if y > 0 and (x, y-1, 'left') not in visited and (\n",
    "                (direction == 'left' and tile in '.-') or \n",
    "                (direction == 'up' and tile in '\\\\-') or\n",
    "                (direction == 'down' and tile in '/-')):\n",
    "            queue.add((x, y-1, 'left'))\n",
    "            visited.add((x, y-1, 'left'))\n",
    "\n",
    "        if x < m-1 and (x+1, y, 'down') not in visited and (\n",
    "                (direction == 'down' and tile in '.|') or \n",
    "                (direction == 'right' and tile in '\\\\|') or\n",
    "                (direction == 'left' and tile in '/|')):\n",
    "            queue.add((x+1, y, 'down'))     \n",
    "            visited.add((x+1, y, 'down'))\n",
    "\n",
    "    return len(energized)\n",
    "\n",
    "\n",
    "print('Part 1:', part1(puzzle_input))\n"
   ]
  },
  {
   "cell_type": "markdown",
   "metadata": {},
   "source": [
    "# Part 2"
   ]
  },
  {
   "cell_type": "code",
   "execution_count": 42,
   "metadata": {},
   "outputs": [
    {
     "name": "stdout",
     "output_type": "stream",
     "text": [
      "Part 2: 8489\n"
     ]
    }
   ],
   "source": [
    "def part2(puzzle_input):\n",
    "    \n",
    "    grid = [list(r) for r in puzzle_input.split('\\n')]\n",
    "    m, n = len(grid), len(grid[0])\n",
    "    initial = ({(x, 0, 'right') for x in range(m)} |\n",
    "               {(x, n-1, 'left') for x in range(m)} |\n",
    "               {(m-1, y, 'up') for y in range(n)} |\n",
    "               {(0, y, 'down') for y in range(n)})\n",
    "    \n",
    "    best = 0\n",
    "    for i in initial:\n",
    "        visited = set()\n",
    "        energized = set()\n",
    "        queue = set([i])   \n",
    "        while queue:\n",
    "            x, y, direction = queue.pop()\n",
    "            energized.add((x, y))\n",
    "            tile = grid[x][y]\n",
    "\n",
    "            if y < n-1 and (x, y+1, 'right') not in visited and (\n",
    "                    (direction == 'right' and tile in '.-') or \n",
    "                    (direction == 'up' and tile in '/-') or\n",
    "                    (direction == 'down' and tile in '\\\\-')):\n",
    "                queue.add((x, y+1, 'right'))\n",
    "                visited.add((x, y+1, 'right'))\n",
    "\n",
    "            if x > 0 and (x-1, y, 'up') not in visited and (\n",
    "                    (direction == 'up' and tile in '.|') or \n",
    "                    (direction == 'right' and tile in '/|') or\n",
    "                    (direction == 'left' and tile in '\\\\|')):\n",
    "                queue.add((x-1, y, 'up'))\n",
    "                visited.add((x-1, y, 'up'))\n",
    "\n",
    "            if y > 0 and (x, y-1, 'left') not in visited and (\n",
    "                    (direction == 'left' and tile in '.-') or \n",
    "                    (direction == 'up' and tile in '\\\\-') or\n",
    "                    (direction == 'down' and tile in '/-')):\n",
    "                queue.add((x, y-1, 'left'))\n",
    "                visited.add((x, y-1, 'left'))\n",
    "\n",
    "            if x < m-1 and (x+1, y, 'down') not in visited and (\n",
    "                    (direction == 'down' and tile in '.|') or \n",
    "                    (direction == 'right' and tile in '\\\\|') or\n",
    "                    (direction == 'left' and tile in '/|')):\n",
    "                queue.add((x+1, y, 'down'))     \n",
    "                visited.add((x+1, y, 'down'))\n",
    "\n",
    "        best = max(best, len(energized))\n",
    "\n",
    "    return best\n",
    "\n",
    "\n",
    "print('Part 2:', part2(puzzle_input))"
   ]
  }
 ],
 "metadata": {
  "kernelspec": {
   "display_name": "base",
   "language": "python",
   "name": "python3"
  },
  "language_info": {
   "codemirror_mode": {
    "name": "ipython",
    "version": 3
   },
   "file_extension": ".py",
   "mimetype": "text/x-python",
   "name": "python",
   "nbconvert_exporter": "python",
   "pygments_lexer": "ipython3",
   "version": "3.9.13"
  }
 },
 "nbformat": 4,
 "nbformat_minor": 2
}
