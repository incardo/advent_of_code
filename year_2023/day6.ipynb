{
 "cells": [
  {
   "cell_type": "markdown",
   "metadata": {},
   "source": [
    "# Advent of code - Day6\n",
    "\n",
    "https://adventofcode.com/2023/day/3"
   ]
  },
  {
   "cell_type": "code",
   "execution_count": 1,
   "metadata": {},
   "outputs": [],
   "source": [
    "import pandas as pd\n",
    "import numpy as np\n",
    "pd.set_option('display.max_columns', None)\n",
    "pd.set_option('display.max_rows', None)\n",
    "pd.set_option('display.expand_frame_repr', True)\n",
    "\n",
    "import re"
   ]
  },
  {
   "cell_type": "markdown",
   "metadata": {},
   "source": [
    "# Part 1"
   ]
  },
  {
   "cell_type": "code",
   "execution_count": 36,
   "metadata": {},
   "outputs": [
    {
     "data": {
      "text/plain": [
       "{'Time': ['7', '15', '30'], 'Distance': ['9', '40', '200']}"
      ]
     },
     "execution_count": 36,
     "metadata": {},
     "output_type": "execute_result"
    }
   ],
   "source": [
    "with open(\"day6_input.txt\") as f:\n",
    "    lines = f.read().splitlines() \n",
    "\n",
    "travel_dict = {}\n",
    "travel_dict[\"Time\"] = re.findall(r'\\d+', lines[0])\n",
    "travel_dict[\"Distance\"] = re.findall(r'\\d+', lines[1])\n",
    "travel_dict"
   ]
  },
  {
   "cell_type": "code",
   "execution_count": 33,
   "metadata": {},
   "outputs": [],
   "source": [
    "def get_distance(time_button, time_race):\n",
    "    if time_button == 0 or time_button>=time_race:\n",
    "        travel_dist = 0\n",
    "    elif time_button>=1:\n",
    "        travel_dist = time_button*(time_race-time_button)\n",
    "    return travel_dist"
   ]
  },
  {
   "cell_type": "code",
   "execution_count": 34,
   "metadata": {},
   "outputs": [
    {
     "name": "stdout",
     "output_type": "stream",
     "text": [
      "[8, 9, 10, 11, 12, 13, 14, 15, 16, 17, 18, 19, 20, 21, 22, 23, 24, 25, 26, 27, 28, 29, 30, 31, 32, 33, 34, 35, 36, 37, 38, 39, 40, 41]\n",
      "[21, 22, 23, 24, 25, 26, 27, 28, 29, 30, 31, 32, 33, 34, 35, 36, 37, 38, 39, 40, 41, 42, 43, 44, 45, 46, 47, 48, 49, 50, 51, 52, 53, 54, 55, 56, 57]\n",
      "[18, 19, 20, 21, 22, 23, 24, 25, 26, 27, 28, 29, 30, 31, 32, 33, 34, 35, 36, 37, 38, 39, 40, 41, 42, 43, 44, 45, 46, 47, 48, 49, 50, 51, 52, 53, 54, 55, 56, 57, 58, 59, 60, 61]\n",
      "[20, 21, 22, 23, 24, 25, 26, 27, 28, 29, 30, 31, 32, 33, 34, 35, 36, 37, 38, 39, 40, 41, 42, 43, 44, 45, 46, 47, 48, 49, 50, 51, 52, 53, 54, 55, 56, 57, 58, 59, 60]\n"
     ]
    },
    {
     "data": {
      "text/plain": [
       "2269432"
      ]
     },
     "execution_count": 34,
     "metadata": {},
     "output_type": "execute_result"
    }
   ],
   "source": [
    "multiplication_ways = 1\n",
    "for x in range(0, len(travel_dict[\"Distance\"])):\n",
    "    race_time = int(travel_dict[\"Time\"][x])\n",
    "    race_distance = int(travel_dict[\"Distance\"][x])\n",
    "    winning_races = []\n",
    "    for i in range(0, race_time):\n",
    "        current_distance = get_distance(i, race_time)\n",
    "        # print(i, current_distance)\n",
    "        if current_distance > race_distance:\n",
    "            winning_races.append(i)\n",
    "    print(winning_races)\n",
    "    multiplication_ways = multiplication_ways * len(winning_races)\n",
    "multiplication_ways"
   ]
  },
  {
   "cell_type": "markdown",
   "metadata": {},
   "source": [
    "### Part 2"
   ]
  },
  {
   "cell_type": "code",
   "execution_count": 44,
   "metadata": {},
   "outputs": [
    {
     "data": {
      "text/plain": [
       "{'Time': '49787980', 'Distance': '298118510661181'}"
      ]
     },
     "execution_count": 44,
     "metadata": {},
     "output_type": "execute_result"
    }
   ],
   "source": [
    "with open(\"day6_input.txt\") as f:\n",
    "    lines = f.read().splitlines() \n",
    "\n",
    "travel_dict = {}\n",
    "travel_dict[\"Time\"] = re.findall(r'\\d+', lines[0])\n",
    "travel_dict[\"Distance\"] = re.findall(r'\\d+', lines[1])\n",
    "travel_dict[\"Time\"] = \"\".join(travel_dict[\"Time\"])\n",
    "travel_dict[\"Distance\"] = \"\".join(travel_dict[\"Distance\"])\n",
    "\n",
    "travel_dict"
   ]
  },
  {
   "cell_type": "code",
   "execution_count": 46,
   "metadata": {},
   "outputs": [
    {
     "name": "stdout",
     "output_type": "stream",
     "text": [
      "35865985\n"
     ]
    }
   ],
   "source": [
    "multiplication_ways = 1\n",
    "race_time = int(travel_dict[\"Time\"])\n",
    "race_distance = int(travel_dict[\"Distance\"])\n",
    "winning_races = []\n",
    "for i in range(0, race_time):\n",
    "    current_distance = get_distance(i, race_time)\n",
    "    # print(i, current_distance)\n",
    "    if current_distance > race_distance:\n",
    "        winning_races.append(i)\n",
    "print(len(winning_races))\n"
   ]
  }
 ],
 "metadata": {
  "kernelspec": {
   "display_name": "base",
   "language": "python",
   "name": "python3"
  },
  "language_info": {
   "codemirror_mode": {
    "name": "ipython",
    "version": 3
   },
   "file_extension": ".py",
   "mimetype": "text/x-python",
   "name": "python",
   "nbconvert_exporter": "python",
   "pygments_lexer": "ipython3",
   "version": "3.9.13"
  }
 },
 "nbformat": 4,
 "nbformat_minor": 2
}
