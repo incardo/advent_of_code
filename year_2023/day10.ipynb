{
 "cells": [
  {
   "cell_type": "markdown",
   "metadata": {},
   "source": [
    "# Advent of code - Day10\n",
    "\n",
    "https://adventofcode.com/2023/day/10"
   ]
  },
  {
   "cell_type": "code",
   "execution_count": 6,
   "metadata": {},
   "outputs": [],
   "source": [
    "import pandas as pd\n",
    "import numpy as np\n",
    "pd.set_option('display.max_columns', None)\n",
    "pd.set_option('display.max_rows', None)\n",
    "pd.set_option('display.expand_frame_repr', True)\n",
    "\n",
    "import re"
   ]
  },
  {
   "cell_type": "markdown",
   "metadata": {},
   "source": [
    "# Part 1"
   ]
  },
  {
   "cell_type": "code",
   "execution_count": 7,
   "metadata": {},
   "outputs": [
    {
     "name": "stdout",
     "output_type": "stream",
     "text": [
      "longest distance 6690\n"
     ]
    }
   ],
   "source": [
    "def read_matrix_from_file(file_path):\n",
    "    with open(file_path, 'r') as file:\n",
    "        input_text = file.read()\n",
    "        lines = input_text.strip().split('\\n')\n",
    "        matrix = [list(line) for line in lines]\n",
    "        numpy_matrix = np.array(matrix)\n",
    "        return numpy_matrix\n",
    "\n",
    "field = read_matrix_from_file(\"day10_input.txt\")\n",
    "\n",
    "def possible_loops(start_x, start_y, field):\n",
    "    \n",
    "    possible_directions = []\n",
    "    current = field[start_x, start_y]\n",
    "    up = field[start_x-1, start_y] if start_x-1>=0 else \".\"\n",
    "    down = field[start_x+1, start_y] if start_x+1<field.shape[0] else \".\"\n",
    "    left = field[start_x, start_y-1]  if start_y-1>=0 else \".\"\n",
    "    right = field[start_x, start_y+1] if start_y+1<field.shape[1] else \".\"\n",
    "    # print(\"-- Current\", current, \"up\", up, \"down\", down, \"left\", left, \"right\", right)\n",
    "\n",
    "    if current == \"S\":\n",
    "        allowed_up, allowed_down, allowed_right, allowed_left = [\"|\", \"F\", \"7\"], [\"|\", \"J\", \"L\"], [\"-\", \"J\", \"7\"], [\"-\", \"F\", \"L\"]\n",
    "    if current == \"-\":\n",
    "        allowed_up, allowed_down, allowed_right, allowed_left = [\"\"], [\"\"], [\"-\", \"J\", \"7\"], [\"-\", \"F\", \"L\"]\n",
    "    if current == \"|\":\n",
    "        allowed_up, allowed_down, allowed_right, allowed_left = [\"|\", \"F\", \"7\"], [\"|\", \"J\", \"L\"], [\"\"], [\"\"]\n",
    "    if current == \"J\":\n",
    "        allowed_up, allowed_down, allowed_right, allowed_left = [\"|\", \"F\", \"7\"], [\"\"], [\"\"], [\"-\", \"F\", \"L\"]\n",
    "    if current == \"7\":\n",
    "        allowed_up, allowed_down, allowed_right, allowed_left = [\"\"], [\"|\", \"J\", \"L\"], [\"\"], [\"-\", \"F\", \"L\"]\n",
    "    if current == \"F\":\n",
    "        allowed_up, allowed_down, allowed_right, allowed_left = [\"\"], [\"|\", \"J\", \"L\"], [\"-\", \"J\", \"7\"], [\"\"]\n",
    "    if current == \"L\":               \n",
    "        allowed_up, allowed_down, allowed_right, allowed_left = [\"|\", \"F\", \"7\"], [\"\"], [\"-\", \"J\", \"7\"], [\"\"]\n",
    "\n",
    "    if up in allowed_up:\n",
    "        # print(\"-- possible up\", up)\n",
    "        possible_directions+=[[start_x-1, start_y]]\n",
    "    if down in allowed_down:\n",
    "        # print(\"-- possible down\", down)\n",
    "        possible_directions+=[[start_x+1, start_y]]\n",
    "    if right in allowed_right:\n",
    "        # print(\"-- possible right\", right)\n",
    "        possible_directions+=[[start_x, start_y+1]]\n",
    "    if left in allowed_left:\n",
    "        # print(\"-- possible left\", left)\n",
    "        possible_directions+=[[start_x, start_y-1]]\n",
    "\n",
    "    return possible_directions\n",
    "\n",
    "start_x = int(np.where(field == \"S\")[0])\n",
    "start_y = int(np.where(field == \"S\")[1])\n",
    "\n",
    "loop_positions = [[start_x, start_y]]\n",
    "additional_positions = loop_positions\n",
    "# display(field)\n",
    "\n",
    "i = 0\n",
    "dist_counter = 0\n",
    "while len(additional_positions)!=0:\n",
    "    # print(\"Iteration\", i, len(additional_positions))\n",
    "    for position in additional_positions:\n",
    "        start_x, start_y = position[0], position[1]\n",
    "        # print(\"Checking\", field[start_x, start_y], \"pos\", start_x, start_y)\n",
    "        additional_positions = [x for x in possible_loops(start_x, start_y, field) if x not in loop_positions]\n",
    "        loop_positions += additional_positions\n",
    "        # print(\" == final add pos\", additional_positions)\n",
    "    i+=1\n",
    "\n",
    "print(\"longest distance\", int(len(loop_positions)/2))"
   ]
  },
  {
   "cell_type": "markdown",
   "metadata": {},
   "source": [
    "# Part 2"
   ]
  },
  {
   "cell_type": "code",
   "execution_count": 9,
   "metadata": {},
   "outputs": [
    {
     "name": "stderr",
     "output_type": "stream",
     "text": [
      "C:\\Users\\incar\\AppData\\Local\\Temp\\ipykernel_30644\\2541965929.py:2: DeprecationWarning: `np.object` is a deprecated alias for the builtin `object`. To silence this warning, use `object` by itself. Doing this will not modify any behavior and is safe. \n",
      "Deprecated in NumPy 1.20; for more details and guidance: https://numpy.org/devdocs/release/1.20.0-notes.html#deprecations\n",
      "  result_matrix = np.full_like(field, \".\", dtype=np.object)\n"
     ]
    },
    {
     "data": {
      "text/plain": [
       "525"
      ]
     },
     "execution_count": 9,
     "metadata": {},
     "output_type": "execute_result"
    }
   ],
   "source": [
    "# Display only the loop\n",
    "result_matrix = np.full_like(field, \".\", dtype=np.object)\n",
    "for pos in loop_positions:\n",
    "    result_matrix[tuple(pos)] = field[tuple(pos)]\n",
    "\n",
    "def replace_S(matrix):\n",
    "    start_x = int(np.where(field == \"S\")[0])\n",
    "    start_y = int(np.where(field == \"S\")[1])\n",
    "    current = matrix[start_x, start_y]\n",
    "    up = matrix[start_x-1, start_y] if start_x-1>=0 else \".\"\n",
    "    down = matrix[start_x+1, start_y] if start_x+1<field.shape[0] else \".\"\n",
    "    left = matrix[start_x, start_y-1]  if start_y-1>=0 else \".\"\n",
    "    right = matrix[start_x, start_y+1] if start_y+1<field.shape[1] else \".\"\n",
    "\n",
    "    if down in [\"|\", \"L\", \"J\"] and right in [\"-\", \"7\", \"J\"]:\n",
    "        replace_value = \"F\"\n",
    "    if down in [\"|\", \"L\", \"J\"] and left in [\"-\", \"F\", \"L\"]:\n",
    "        replace_value = \"7\"\n",
    "    if up in [\"|\", \"7\", \"F\"] and right in [\"-\", \"F\", \"L\"]:\n",
    "        replace_value = \"L\"\n",
    "    if up in [\"|\", \"7\", \"F\"] and left in [\"-\", \"7\", \"J\"]:\n",
    "        replace_value = \"J\"\n",
    "\n",
    "    matrix[start_x, start_y]= replace_value\n",
    "    return matrix\n",
    "\n",
    "replace_S(result_matrix)\n",
    "\n",
    "#Simply count all |LJ (or alternatively |F7, same result) to the right of each point\n",
    "characters_to_remap = ['|', 'L', 'J']\n",
    "remapped_value = '@'\n",
    "masks = [result_matrix == char for char in characters_to_remap]\n",
    "combined_mask = np.logical_or.reduce(masks)\n",
    "remapped_matrix = np.where(combined_mask, remapped_value, result_matrix)\n",
    "\n",
    "# display(remapped_matrix)\n",
    "\n",
    "count_internal = 0\n",
    "for x in range(0,remapped_matrix.shape[0]):\n",
    "    for y in range(0, remapped_matrix.shape[1]):\n",
    "        if [x, y] not in loop_positions:\n",
    "\n",
    "            sum_of_vertical = sum(element.count(\"@\") for element in remapped_matrix[x][y+1:])\n",
    "            if sum_of_vertical>0 and sum_of_vertical % 2 !=0:\n",
    "                # print(\"internal\")\n",
    "                count_internal+=1\n",
    "            else:\n",
    "                # print(\"external\")\n",
    "                pass\n",
    "count_internal"
   ]
  },
  {
   "cell_type": "markdown",
   "metadata": {},
   "source": []
  }
 ],
 "metadata": {
  "kernelspec": {
   "display_name": "base",
   "language": "python",
   "name": "python3"
  },
  "language_info": {
   "codemirror_mode": {
    "name": "ipython",
    "version": 3
   },
   "file_extension": ".py",
   "mimetype": "text/x-python",
   "name": "python",
   "nbconvert_exporter": "python",
   "pygments_lexer": "ipython3",
   "version": "3.9.13"
  }
 },
 "nbformat": 4,
 "nbformat_minor": 2
}
