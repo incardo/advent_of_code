{
 "cells": [
  {
   "cell_type": "markdown",
   "metadata": {},
   "source": [
    "# Advent of code - Day3\n",
    "https://adventofcode.com/2023/day/3"
   ]
  },
  {
   "cell_type": "code",
   "execution_count": 10,
   "metadata": {},
   "outputs": [],
   "source": [
    "import pandas as pd\n",
    "import numpy as np\n",
    "pd.set_option('display.max_columns', None)\n",
    "pd.set_option('display.max_rows', None)\n",
    "pd.set_option('display.expand_frame_repr', True)\n",
    "\n",
    "import re"
   ]
  },
  {
   "cell_type": "markdown",
   "metadata": {},
   "source": [
    "# Part 1"
   ]
  },
  {
   "cell_type": "code",
   "execution_count": 102,
   "metadata": {},
   "outputs": [
    {
     "name": "stdout",
     "output_type": "stream",
     "text": [
      "539637\n"
     ]
    }
   ],
   "source": [
    "def read_matrix_from_file(file_path):\n",
    "    with open(file_path, 'r') as file:\n",
    "        input_text = file.read()\n",
    "        lines = input_text.strip().split('\\n')\n",
    "        matrix = [list(line) for line in lines]\n",
    "        numpy_matrix = np.array(matrix)\n",
    "        return numpy_matrix\n",
    "\n",
    "engine_schematic = read_matrix_from_file(\"day3_input.txt\")\n",
    "special_characters = set(\"!@#$%^&*()_+{}[]:;<>,?/\\\\|=~-\")\n",
    "\n",
    "def check_symbols(x, y, engine_schematic):\n",
    "    x_max = engine_schematic.shape[0]\n",
    "    y_max = engine_schematic.shape[1]\n",
    "\n",
    "    x_upper = x+2 if x+2 <= x_max else x+1\n",
    "    y_upper = y+2 if y+2 <= y_max else y+1\n",
    "    x_lower = x-1 if x >= 1 else x\n",
    "    y_lower = y-1 if y >= 1 else y\n",
    "\n",
    "    neighbors = set(engine_schematic[x_lower:x_upper, y_lower:y_upper].flatten())\n",
    "    # print(engine_schematic[x_lower:x_upper, y_lower:y_upper])\n",
    "    if len(neighbors&special_characters)>0:\n",
    "        # print(neighbors&special_characters)\n",
    "        return True\n",
    "    else:\n",
    "        return False\n",
    "    \n",
    "def check_full_number_symbol(current_digit, x, y, engine_schematic):\n",
    "    if len(current_digit) == 1:\n",
    "        return check_symbols(x, y, engine_schematic)\n",
    "    elif len(current_digit) == 2:\n",
    "        return check_symbols(x, y, engine_schematic) or  check_symbols(x, y-1, engine_schematic)\n",
    "    elif len(current_digit) == 3:\n",
    "        return check_symbols(x, y, engine_schematic) or  check_symbols(x, y-1, engine_schematic) or  check_symbols(x, y-2, engine_schematic)\n",
    "    \n",
    "\n",
    "current_digit = \"\"\n",
    "stored_numbers = []\n",
    "\n",
    "for x, line in enumerate(engine_schematic):\n",
    "    # print(f\"Line {x} --------------------------------------------------------------------------------------------\")\n",
    "    for y, char in enumerate(line):\n",
    "        if char.isdigit():\n",
    "            current_digit += str(char)\n",
    "            condition_y = not line[y+1].isdigit() if y+1<len(line) else True\n",
    "            if condition_y: # check if next char is not a digit then nr is over\n",
    "                # print(\"checking potential nr\", current_digit, check_full_number_symbol(current_digit, x, y, engine_schematic))\n",
    "                if  check_full_number_symbol(current_digit, x, y, engine_schematic) == True:\n",
    "                    # print(\"appending\", current_digit, \" which is close to a symbol. next char is not a digit\")\n",
    "                    stored_numbers.append(int(current_digit))\n",
    "                else:\n",
    "                    #print(\"skipping number\", current_digit, \"char\", char, \"pos\", x, y)\n",
    "                    pass\n",
    "                current_digit = \"\"\n",
    "\n",
    "print(sum(stored_numbers))"
   ]
  },
  {
   "cell_type": "markdown",
   "metadata": {},
   "source": [
    "# Part 2"
   ]
  },
  {
   "cell_type": "code",
   "execution_count": 106,
   "metadata": {},
   "outputs": [
    {
     "name": "stdout",
     "output_type": "stream",
     "text": [
      "82818007\n"
     ]
    }
   ],
   "source": [
    "def read_matrix_from_file(file_path):\n",
    "    with open(file_path, 'r') as file:\n",
    "        input_text = file.read()\n",
    "        lines = input_text.strip().split('\\n')\n",
    "        matrix = [list(line) for line in lines]\n",
    "        numpy_matrix = np.array(matrix)\n",
    "        return numpy_matrix\n",
    "\n",
    "engine_schematic = read_matrix_from_file(\"day3_input.txt\")\n",
    "special_characters = set(\"!@#$%^&*()_+{}[]:;<>,?/\\\\|=~-\")\n",
    "\n",
    "def check_symbols_gear(x, y, engine_schematic):\n",
    "    x_max = engine_schematic.shape[0]\n",
    "    y_max = engine_schematic.shape[1]\n",
    "\n",
    "    x_upper = x+2 if x+2 <= x_max else x+1\n",
    "    y_upper = y+2 if y+2 <= y_max else y+1\n",
    "    x_lower = x-1 if x >= 1 else x\n",
    "    y_lower = y-1 if y >= 1 else y\n",
    "\n",
    "    neighbors = set(engine_schematic[x_lower:x_upper, y_lower:y_upper].flatten())\n",
    "    # print(\"pos\", x, y , \"neighbors\", engine_schematic[x_lower:x_upper, y_lower:y_upper])\n",
    "\n",
    "    if len(neighbors&set(\"*\"))>0:\n",
    "        return True\n",
    "    else:\n",
    "        return False\n",
    "    \n",
    "def check_full_number_symbol_gear(current_digit, x, y, engine_schematic):\n",
    "    if len(current_digit) == 1:\n",
    "        return check_symbols_gear(x, y, engine_schematic)\n",
    "    elif len(current_digit) == 2:\n",
    "        return check_symbols_gear(x, y, engine_schematic) or  check_symbols_gear(x, y-1, engine_schematic)\n",
    "    elif len(current_digit) == 3:\n",
    "        return check_symbols_gear(x, y, engine_schematic) or  check_symbols_gear(x, y-1, engine_schematic) or  check_symbols_gear(x, y-2, engine_schematic)\n",
    "    \n",
    "\n",
    "def find_gear(x, y, engine_schematic): # Check in the neighbors of the star if there are numbers that can be summed\n",
    "    x_max = engine_schematic.shape[0]\n",
    "    y_max = engine_schematic.shape[1]\n",
    "\n",
    "    window = 3\n",
    "    x_upper = min(x_max, x+2)\n",
    "    y_upper = min(y_max, y+window+1)\n",
    "    x_lower = max(0, x-1)\n",
    "    y_lower = max(0, y-window)\n",
    "\n",
    "    neighbors = engine_schematic[x_lower:x_upper, y_lower:y_upper]\n",
    "    neighbors = np.char.replace(neighbors, \"*\", \".\")\n",
    "    neighbors[1,3]=\"*\"\n",
    "\n",
    "    ## Avoid other stars that are not in the initial position:\n",
    "    current_digit = \"\"\n",
    "    stored_numbers = []\n",
    "    for x, line in enumerate(neighbors): ## Looping across neighbors window\n",
    "        for y, char in enumerate(line):\n",
    "            if char.isdigit():\n",
    "                current_digit += str(char)\n",
    "                condition_y = not line[y+1].isdigit() if y+1<len(line) else True\n",
    "                if condition_y: # check if next char is not a digit then nr is over\n",
    "                    if  check_full_number_symbol_gear(current_digit, x, y, neighbors) == True:\n",
    "                        # print(\"appending\", current_digit, \" which is close to a symbol. next char is not a digit\")\n",
    "                        stored_numbers.append(int(current_digit))\n",
    "                    else:\n",
    "                        # print(\"skipping number\", current_digit, \"char\", char, \"pos\", x, y)\n",
    "                        pass\n",
    "                    current_digit = \"\"\n",
    "\n",
    "    # print(\"*close \", neighbors)\n",
    "    if len(stored_numbers)==2:\n",
    "        # print(\"Multiplying \", stored_numbers[0], stored_numbers[1])\n",
    "        gear_ratio = stored_numbers[0]*stored_numbers[1]\n",
    "    else:\n",
    "        # print(\"Not multipling \", stored_numbers)\n",
    "        gear_ratio = 0\n",
    "        \n",
    "    return gear_ratio\n",
    "\n",
    "\n",
    "prods_list_mine = []\n",
    "sum_gear_ratio = 0\n",
    "for x, line in enumerate(engine_schematic):\n",
    "    # print(f\"Line {x+1} --------------------------------------------------------------------------------------------\")\n",
    "    for y, char in enumerate(line):\n",
    "        if char == \"*\":\n",
    "            # print(\"star in pos\", x, y)\n",
    "            sum_gear_ratio+=find_gear(x, y, engine_schematic)\n",
    "            if find_gear(x, y, engine_schematic)!=0:\n",
    "                prods_list_mine +=[find_gear(x, y, engine_schematic)]\n",
    "\n",
    "print(sum_gear_ratio)\n",
    "\n",
    "    "
   ]
  }
 ],
 "metadata": {
  "kernelspec": {
   "display_name": "base",
   "language": "python",
   "name": "python3"
  },
  "language_info": {
   "codemirror_mode": {
    "name": "ipython",
    "version": 3
   },
   "file_extension": ".py",
   "mimetype": "text/x-python",
   "name": "python",
   "nbconvert_exporter": "python",
   "pygments_lexer": "ipython3",
   "version": "3.9.13"
  }
 },
 "nbformat": 4,
 "nbformat_minor": 2
}
