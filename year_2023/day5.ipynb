{
 "cells": [
  {
   "cell_type": "markdown",
   "metadata": {},
   "source": [
    "# Advent of code - Day5\n",
    "\n",
    "https://adventofcode.com/2023/day/3"
   ]
  },
  {
   "cell_type": "code",
   "execution_count": 1,
   "metadata": {},
   "outputs": [],
   "source": [
    "import pandas as pd\n",
    "import numpy as np\n",
    "pd.set_option('display.max_columns', None)\n",
    "pd.set_option('display.max_rows', None)\n",
    "pd.set_option('display.expand_frame_repr', True)\n",
    "\n",
    "import re\n",
    "from math import log10, ceil"
   ]
  },
  {
   "cell_type": "markdown",
   "metadata": {},
   "source": [
    "# Part 1"
   ]
  },
  {
   "cell_type": "code",
   "execution_count": 2,
   "metadata": {},
   "outputs": [],
   "source": [
    "with open(\"day5_input.txt\") as f:\n",
    "    lines = f.read().splitlines() "
   ]
  },
  {
   "cell_type": "code",
   "execution_count": 3,
   "metadata": {},
   "outputs": [],
   "source": [
    "almanac = {}\n",
    "for line in lines[2:]:\n",
    "    if \"map\" in line:\n",
    "        map_name = line\n",
    "    elif line == \"\":\n",
    "        pass\n",
    "    else:\n",
    "        numbers = [int(x) for x in re.findall(r'\\d+', line)]\n",
    "        if map_name in almanac.keys():\n",
    "            almanac[map_name].append(numbers)\n",
    "        else:\n",
    "            almanac[map_name] = [numbers]\n",
    "    "
   ]
  },
  {
   "cell_type": "code",
   "execution_count": 4,
   "metadata": {},
   "outputs": [],
   "source": [
    "def find_mapped(mapping, seed):\n",
    "    mapped_seed = \"\"\n",
    "    for line in mapping:\n",
    "        dest_range_start = line[0]\n",
    "        source_range_start = line[1]\n",
    "        range_length = line[2]\n",
    "        if seed in range(source_range_start, source_range_start+range_length):\n",
    "            position = range(source_range_start, source_range_start+range_length).index(seed)\n",
    "            mapped_seed =  range(dest_range_start, dest_range_start+range_length)[position]\n",
    "        else:\n",
    "            pass\n",
    "    if mapped_seed == \"\":\n",
    "        mapped_seed = seed\n",
    "    return mapped_seed \n"
   ]
  },
  {
   "cell_type": "code",
   "execution_count": 5,
   "metadata": {},
   "outputs": [],
   "source": [
    "seeds = [int(x) for x in re.findall(r'\\d+', lines[0])]"
   ]
  },
  {
   "cell_type": "code",
   "execution_count": 6,
   "metadata": {},
   "outputs": [],
   "source": [
    "def find_location(almanac, number):\n",
    "    for mapping_key, mapping_value in almanac.items():\n",
    "        # print(\"checking\", mapping_key, number)\n",
    "        number = find_mapped(mapping_value, number)\n",
    "        # print(\"New number for \", mapping_key, number)\n",
    "        # print(\" --- Final location\", number)\n",
    "    return number"
   ]
  },
  {
   "cell_type": "code",
   "execution_count": 7,
   "metadata": {},
   "outputs": [
    {
     "name": "stdout",
     "output_type": "stream",
     "text": [
      "510109797\n"
     ]
    }
   ],
   "source": [
    "locations = []\n",
    "for seed in seeds:\n",
    "    location = find_location(almanac, seed)\n",
    "    # print(\"Mapping \", seed, \"to\", location)\n",
    "    locations.append(location)\n",
    "\n",
    "print(min(locations))"
   ]
  },
  {
   "cell_type": "markdown",
   "metadata": {},
   "source": [
    "# Part 2"
   ]
  },
  {
   "cell_type": "markdown",
   "metadata": {},
   "source": [
    "### Approx approach"
   ]
  },
  {
   "cell_type": "code",
   "execution_count": 26,
   "metadata": {},
   "outputs": [
    {
     "name": "stdout",
     "output_type": "stream",
     "text": [
      "Best estimate: 1950584943 in seed range 1736484943 to 2643914129\n",
      "Step size: 100000  , best estimate: 1950584943 near loc 9709725\n",
      "Searching 1950484943 1950684943 100000\n",
      "Step size: 10000   , best estimate: 1950504943 near loc 9629725\n",
      "Searching 1950494943 1950514943 10000\n",
      "Step size: 1000    , best estimate: 1950497943 near loc 9622725\n",
      "Searching 1950496943 1950498943 1000\n",
      "Step size: 100     , best estimate: 1950497843 near loc 9622625\n",
      "Searching 1950497743 1950497943 100\n",
      "Step size: 10      , best estimate: 1950497843 near loc 9622625\n",
      "Searching 1950497833 1950497853 10\n",
      "Step size: 1       , best estimate: 1950497840 near loc 9622622\n"
     ]
    },
    {
     "data": {
      "text/plain": [
       "9622622"
      ]
     },
     "execution_count": 26,
     "metadata": {},
     "output_type": "execute_result"
    }
   ],
   "source": [
    "new_seeds = []\n",
    "output = True\n",
    "\n",
    "for i in range(0,len(seeds),2):\n",
    "    new_seeds.append([seeds[i], seeds[i+1]])\n",
    "\n",
    "step_size = int(pow(10, ceil(log10(max(s for s in seeds) / 100000))))\n",
    "search_vals = {(ss, ss + sl, s): find_location(almanac, s) for ss, sl in new_seeds for s in range(ss, ss + sl, step_size)}\n",
    "rough_est = min(search_vals.items(), key = lambda x: x[1])\n",
    "\n",
    "seed_range_start, seed_range_end, best_est = rough_est[0]\n",
    "\n",
    "if output:\n",
    "    print(f'Best estimate: {best_est} in seed range {seed_range_start} to {seed_range_end}')\n",
    "    print(f'Step size: {step_size:<8d}, best estimate: {best_est:<10d} near loc {rough_est[1]}')\n",
    "\n",
    "while step_size > 1:\n",
    "    left_search  = max(best_est - step_size, seed_range_start)\n",
    "    right_search = min(best_est + step_size, seed_range_end)\n",
    "    print(\"Searching\", left_search, right_search, step_size)\n",
    "    step_size = step_size // 10\n",
    "    search_vals = {s: find_location(almanac, s) for s in range(left_search, right_search, step_size)}\n",
    "    best_est, best_loc = min(search_vals.items(), key = lambda x: x[1])\n",
    "\n",
    "    if output:\n",
    "        print(f'Step size: {step_size:<8d}, best estimate: {best_est:<10d} near loc {best_loc}')\n",
    "\n",
    "best_loc"
   ]
  },
  {
   "cell_type": "markdown",
   "metadata": {},
   "source": [
    "### Range approach"
   ]
  },
  {
   "cell_type": "code",
   "execution_count": 12,
   "metadata": {},
   "outputs": [
    {
     "name": "stdout",
     "output_type": "stream",
     "text": [
      "9622622\n"
     ]
    }
   ],
   "source": [
    "# For each map :\n",
    "# We take each range and split them on intersections with given map\n",
    "# Then we store the result of the map.\n",
    "# And again until there is no range remaining.\n",
    "# That was way too long and probably the last time I c/c code here xd\n",
    "\n",
    "\n",
    "seeds, *maps = open(\"day5_input.txt\").read().split('\\n\\n')\n",
    "seeds = [int(seed) for seed in seeds.split()[1:]]\n",
    "maps = [[list(map(int, line.split())) for line in m.splitlines()[1:]] for m in maps]\n",
    "\n",
    "locations = []\n",
    "for i in range(0, len(seeds), 2):\n",
    "    ranges = [[seeds[i], seeds[i + 1] + seeds[i]]]\n",
    "    results = []\n",
    "    for _map in maps:\n",
    "        while ranges:\n",
    "            start_range, end_range = ranges.pop()\n",
    "            for target, start_map, r in _map:\n",
    "                end_map = start_map + r\n",
    "                offset = target - start_map\n",
    "                if end_map <= start_range or end_range <= start_map:  # no overlap\n",
    "                    continue\n",
    "                if start_range < start_map:\n",
    "                    ranges.append([start_range, start_map])\n",
    "                    start_range = start_map\n",
    "                if end_map < end_range:\n",
    "                    ranges.append([end_map, end_range])\n",
    "                    end_range = end_map\n",
    "                results.append([start_range + offset, end_range + offset])\n",
    "                break\n",
    "            else:\n",
    "                results.append([start_range, end_range])\n",
    "        ranges = results\n",
    "        results = []\n",
    "    locations += ranges\n",
    "print(min(loc[0] for loc in locations))"
   ]
  }
 ],
 "metadata": {
  "kernelspec": {
   "display_name": "base",
   "language": "python",
   "name": "python3"
  },
  "language_info": {
   "codemirror_mode": {
    "name": "ipython",
    "version": 3
   },
   "file_extension": ".py",
   "mimetype": "text/x-python",
   "name": "python",
   "nbconvert_exporter": "python",
   "pygments_lexer": "ipython3",
   "version": "3.10.10"
  }
 },
 "nbformat": 4,
 "nbformat_minor": 2
}
