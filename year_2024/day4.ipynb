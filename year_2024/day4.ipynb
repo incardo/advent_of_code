{
 "cells": [
  {
   "cell_type": "code",
   "execution_count": 2,
   "metadata": {},
   "outputs": [
    {
     "name": "stderr",
     "output_type": "stream",
     "text": [
      "C:\\Users\\incar\\AppData\\Local\\Temp\\ipykernel_20300\\287216878.py:1: DeprecationWarning: \n",
      "Pyarrow will become a required dependency of pandas in the next major release of pandas (pandas 3.0),\n",
      "(to allow more performant data types, such as the Arrow string type, and better interoperability with other libraries)\n",
      "but was not found to be installed on your system.\n",
      "If this would cause problems for you,\n",
      "please provide us feedback at https://github.com/pandas-dev/pandas/issues/54466\n",
      "        \n",
      "  import pandas as pd\n"
     ]
    }
   ],
   "source": [
    "import pandas as pd\n",
    "import numpy as np\n",
    "pd.set_option('display.max_columns', None)\n",
    "pd.set_option('display.max_rows', None)\n",
    "pd.set_option('display.expand_frame_repr', True)\n",
    "\n",
    "import re"
   ]
  },
  {
   "cell_type": "code",
   "execution_count": 72,
   "metadata": {},
   "outputs": [],
   "source": [
    "with open(\"day4_input.txt\") as f:\n",
    "    grid = f.read().split('\\n')"
   ]
  },
  {
   "cell_type": "markdown",
   "metadata": {},
   "source": [
    "# Part 1"
   ]
  },
  {
   "cell_type": "code",
   "execution_count": 73,
   "metadata": {},
   "outputs": [
    {
     "name": "stdout",
     "output_type": "stream",
     "text": [
      "Total count 2543\n"
     ]
    }
   ],
   "source": [
    "# Convert the string into a grid\n",
    "word = \"XMAS\"\n",
    "rows, cols = len(grid), len(grid[0])\n",
    "\n",
    "# Directions: (row_step, col_step)\n",
    "directions = [\n",
    "    (0, 1),    # Horizontal right\n",
    "    (0, -1),   # Horizontal left\n",
    "    (1, 0),    # Vertical down\n",
    "    (-1, 0),   # Vertical up\n",
    "    (1, 1),    # Diagonal down-right\n",
    "    (-1, -1),  # Diagonal up-left\n",
    "    (1, -1),   # Diagonal down-left\n",
    "    (-1, 1),   # Diagonal up-right\n",
    "]\n",
    "\n",
    "def is_valid(x, y):\n",
    "    \"\"\"Check if a position is within the grid.\"\"\"\n",
    "    return 0 <= x < rows and 0 <= y < cols\n",
    "\n",
    "def find_word(grid, word):\n",
    "    matches = []\n",
    "    for r in range(rows):\n",
    "        for c in range(cols):\n",
    "            for dr, dc in directions:\n",
    "                # Check if the word fits in the direction\n",
    "                found = True\n",
    "                for i in range(len(word)):\n",
    "                    nr, nc = r + dr * i, c + dc * i\n",
    "                    if not is_valid(nr, nc) or grid[nr][nc] != word[i]:\n",
    "                        found = False\n",
    "                        break\n",
    "                if found:\n",
    "                    matches.append(((r, c), (dr, dc)))\n",
    "    return matches\n",
    "\n",
    "# Find all matches\n",
    "matches = find_word(grid, word)\n",
    "\n",
    "# Print matches\n",
    "total_count = 0\n",
    "for start, direction in matches:\n",
    "    #print(f\"Found '{word}' starting at {start} in direction {direction}\")\n",
    "    total_count +=1\n",
    "\n",
    "print(\"Total count\", total_count)\n"
   ]
  },
  {
   "cell_type": "markdown",
   "metadata": {},
   "source": [
    "# Part 2"
   ]
  },
  {
   "cell_type": "code",
   "execution_count": 74,
   "metadata": {},
   "outputs": [
    {
     "name": "stdout",
     "output_type": "stream",
     "text": [
      "Total count 1930\n"
     ]
    }
   ],
   "source": [
    "# Convert the string into a grid\n",
    "word = \"XMAS\"\n",
    "rows, cols = len(grid), len(grid[0])\n",
    "\n",
    "# Directions: (row_step, col_step)\n",
    "directions_list = [{\n",
    "    (1, 1):\"S\",    # Diagonal down-right\n",
    "    (-1, -1):\"M\",  # Diagonal up-left\n",
    "    (1, -1):\"M\",   # Diagonal down-left\n",
    "    (-1, 1):\"S\",   # Diagonal up-right\n",
    "},\n",
    "{\n",
    "    (1, 1):\"M\",    # Diagonal down-right\n",
    "    (-1, -1):\"S\",  # Diagonal up-left\n",
    "    (1, -1):\"S\",   # Diagonal down-left\n",
    "    (-1, 1):\"M\",   # Diagonal up-right\n",
    "},\n",
    "{\n",
    "    (1, 1):\"S\",    # Diagonal down-right\n",
    "    (-1, -1):\"M\",  # Diagonal up-left\n",
    "    (1, -1):\"S\",   # Diagonal down-left\n",
    "    (-1, 1):\"M\",   # Diagonal up-right\n",
    "},\n",
    "{\n",
    "    (1, 1):\"M\",    # Diagonal down-right\n",
    "    (-1, -1):\"S\",  # Diagonal up-left\n",
    "    (1, -1):\"M\",   # Diagonal down-left\n",
    "    (-1, 1):\"S\",   # Diagonal up-right\n",
    "}]\n",
    "\n",
    "def is_valid(x, y):\n",
    "    \"\"\"Check if a position is within the grid.\"\"\"\n",
    "    return 0 <= x < rows and 0 <= y < cols\n",
    "\n",
    "def find_xmas(grid, word):\n",
    "    rows, cols = len(grid), len(grid[0])\n",
    "    matches = []\n",
    "    for r in range(rows):\n",
    "        for c in range(cols):\n",
    "            #print(r,c)\n",
    "            if grid[r][c] == \"A\":\n",
    "                #print(f\"Checking {r} {c}, {grid[r][c]}\")\n",
    "                for i, directions in enumerate(directions_list):\n",
    "                    #print(f\"****checking directions {i}\")\n",
    "                    for dr, dc in directions.keys():\n",
    "                        found = True\n",
    "                        # CROSS MAS is centered around A:\n",
    "                        nr, nc = r + dr, c + dc\n",
    "\n",
    "                        #if is_valid(nr, nc):\n",
    "                            #print(f\"--- checking direction {dr}, {dc}, new position {nr, nc} {grid[nr][nc]}\")\n",
    "\n",
    "                        if not is_valid(nr, nc) or grid[nr][nc] != directions[(dr, dc)]:\n",
    "                            found = False\n",
    "                            #print(f\"--- invalid position {nr, nc}, {found}\")\n",
    "                            break\n",
    "\n",
    "                    if found:\n",
    "                        #print(\"----- Valid found!\")\n",
    "                        matches.append(((r, c), (dr, dc)))\n",
    "                        break\n",
    "    return matches\n",
    "\n",
    "# Find all matches\n",
    "matches = find_xmas(grid, word)\n",
    "\n",
    "# Print matches\n",
    "total_count = 0\n",
    "for start, direction in matches:\n",
    "    #print(f\"Found '{word}' starting at {start} in direction {direction}\")\n",
    "    total_count +=1\n",
    "\n",
    "print(\"Total count\", total_count)\n"
   ]
  }
 ],
 "metadata": {
  "kernelspec": {
   "display_name": "base",
   "language": "python",
   "name": "python3"
  },
  "language_info": {
   "codemirror_mode": {
    "name": "ipython",
    "version": 3
   },
   "file_extension": ".py",
   "mimetype": "text/x-python",
   "name": "python",
   "nbconvert_exporter": "python",
   "pygments_lexer": "ipython3",
   "version": "3.12.0"
  }
 },
 "nbformat": 4,
 "nbformat_minor": 2
}
