{
 "cells": [
  {
   "cell_type": "code",
   "execution_count": 99,
   "metadata": {},
   "outputs": [],
   "source": [
    "import pandas as pd\n",
    "import numpy as np\n",
    "import math\n",
    "pd.set_option('display.max_columns', None)\n",
    "pd.set_option('display.max_rows', None)\n",
    "pd.set_option('display.expand_frame_repr', True)\n",
    "from tqdm import tqdm\n",
    "\n",
    "import re"
   ]
  },
  {
   "cell_type": "code",
   "execution_count": 87,
   "metadata": {},
   "outputs": [],
   "source": [
    "def read_matrix_from_file(file_path):\n",
    "    with open(file_path, 'r') as file:\n",
    "        input_text = file.read()\n",
    "        lines = input_text.strip().split('\\n')\n",
    "        matrix = [list(line) for line in lines]\n",
    "        numpy_matrix = np.array(matrix)\n",
    "        return numpy_matrix\n",
    "\n",
    "map = read_matrix_from_file(\"day6_input.txt\") "
   ]
  },
  {
   "cell_type": "markdown",
   "metadata": {},
   "source": [
    "# Part 1"
   ]
  },
  {
   "cell_type": "code",
   "execution_count": 88,
   "metadata": {},
   "outputs": [
    {
     "name": "stdout",
     "output_type": "stream",
     "text": [
      "Initial position detected ^ at 67 95\n"
     ]
    }
   ],
   "source": [
    "def find_initial_position(map):\n",
    "    y_size = len(map)\n",
    "    x_size = len(map[0])\n",
    "    for x in range(0, x_size):\n",
    "        for y in range(0, y_size):\n",
    "            #print(\"Checking\", map[x][y])\n",
    "            if map[x][y] not in [\".\", \"#\"]:\n",
    "                print(\"Initial position detected\", map[x][y], \"at\", x, y)\n",
    "                return x, y\n",
    "\n",
    "x_start, y_start =find_initial_position(map)\n",
    "\n",
    "def determine_direction(start_value):\n",
    "    if start_value==\"^\":\n",
    "        return -1, 0\n",
    "    if start_value==\"v\":\n",
    "        return 1, 0\n",
    "    if start_value==\"<\":\n",
    "        return 0,-1\n",
    "    if start_value==\">\":\n",
    "        return 0, 1\n",
    "\n",
    "def rotate_clockwise(start_value):\n",
    "    if start_value==\"^\":\n",
    "        return \">\"\n",
    "    if start_value==\"v\":\n",
    "        return \"<\"\n",
    "    if start_value==\"<\":\n",
    "        return \"^\"\n",
    "    if start_value==\">\":\n",
    "        return \"v\""
   ]
  },
  {
   "cell_type": "code",
   "execution_count": 89,
   "metadata": {},
   "outputs": [
    {
     "name": "stdout",
     "output_type": "stream",
     "text": [
      "went outside map\n",
      "Unique visited positions 5269\n"
     ]
    }
   ],
   "source": [
    "def patrol(map, x_start, y_start):\n",
    "    y_size = len(map)-1\n",
    "    x_size = len(map[0])-1\n",
    "    x, y = x_start, y_start\n",
    "    current_value = map[x][y]\n",
    "    map[x][y] = \".\"\n",
    "    inside_map = True\n",
    "    visited_positions = []\n",
    "    while inside_map:\n",
    "    #for i in range(0,20):\n",
    "        not_safe = True\n",
    "        #print(\"Current\", x, y, current_value)\n",
    "        while not_safe:\n",
    "            dx, dy = determine_direction(current_value) \n",
    "            x_next, y_next = x+dx, y+dy\n",
    "            if x_next <= x_size and y_next <= y_size:\n",
    "                #print(\"Next?\", x_next, y_next, map[x_next][y_next])\n",
    "\n",
    "                if map[x_next][y_next]==\".\":\n",
    "                    #print(\"Move - no obstacles\")\n",
    "                    x, y = x_next, y_next\n",
    "                    not_safe = False\n",
    "                    visited_positions.append((x,y))\n",
    "\n",
    "                if map[x_next][y_next]==\"#\":\n",
    "                    #print(\"Obstacle ahead - rotate 90 degrees\")\n",
    "                    current_value = rotate_clockwise(current_value)\n",
    "            else:\n",
    "                print(\"went outside map\")\n",
    "                inside_map = False\n",
    "                not_safe = False\n",
    "    \n",
    "    visited_positions = set(visited_positions)\n",
    "    print(\"Unique visited positions\", len(visited_positions))\n",
    "\n",
    "game_map = map.copy()\n",
    "patrol(game_map, x_start, y_start)    \n"
   ]
  },
  {
   "cell_type": "markdown",
   "metadata": {},
   "source": [
    "# Part 2"
   ]
  },
  {
   "cell_type": "code",
   "execution_count": null,
   "metadata": {},
   "outputs": [],
   "source": [
    "def patrol_loop(map, x_start, y_start):\n",
    "    y_size = len(map)-1\n",
    "    x_size = len(map[0])-1\n",
    "    x, y = x_start, y_start\n",
    "    current_value = map[x][y]\n",
    "    map[x][y] = \".\"\n",
    "    inside_map = True\n",
    "    visited_positions = []\n",
    "\n",
    "    steps_count = 0\n",
    "    while inside_map:\n",
    "    #for i in range(0,20):\n",
    "        not_safe = True\n",
    "        #print(\"Current\", x, y, current_value)\n",
    "        while not_safe:\n",
    "            dx, dy = determine_direction(current_value) \n",
    "            x_next, y_next = x+dx, y+dy\n",
    "            if x_next <= x_size and y_next <= y_size and x_next>=0 and y_next>=0:\n",
    "                #print(\"Next?\", x_next, y_next, map[x_next][y_next])\n",
    "\n",
    "                if map[x_next][y_next]==\".\":\n",
    "                    #print(\"Move - no obstacles\")\n",
    "                    x, y = x_next, y_next\n",
    "                    not_safe = False\n",
    "                    visited_positions.append((x,y))\n",
    "                    steps_count +=1\n",
    "\n",
    "                if map[x_next][y_next]==\"#\":\n",
    "                    #print(\"Obstacle ahead - rotate 90 degrees\")\n",
    "                    current_value = rotate_clockwise(current_value)\n",
    "            else:\n",
    "                #print(\"went outside map\")\n",
    "                inside_map = False\n",
    "                not_safe = False\n",
    "        \n",
    "        if steps_count>=10000:\n",
    "            #print(\"Breaking... stuck in a loop\")\n",
    "            return False\n",
    "    \n",
    "    visited_positions = set(visited_positions)\n",
    "    return True\n",
    "    #print(\"Unique visited positions\", len(visited_positions))\n",
    "\n",
    "# Modify single positions\n",
    "y_size = len(map)\n",
    "x_size = len(map[0])\n",
    "\n",
    "obstructions_count = 0\n",
    "for x in range(0, x_size):\n",
    "    print(x)\n",
    "    for y in range(0, y_size):\n",
    "        if (x != x_start or y!= y_start) and game_map[x][y]!=\"#\":\n",
    "            game_map = map.copy()\n",
    "            game_map[x][y] = \"#\"\n",
    "            #display(game_map)\n",
    "            if not patrol_loop(game_map, x_start, y_start):\n",
    "                #print(x, y, game_map[x][y])\n",
    "                obstructions_count+=1\n",
    "\n",
    "print(\"possible paths\", obstructions_count)\n",
    "\n"
   ]
  }
 ],
 "metadata": {
  "kernelspec": {
   "display_name": "base",
   "language": "python",
   "name": "python3"
  },
  "language_info": {
   "codemirror_mode": {
    "name": "ipython",
    "version": 3
   },
   "file_extension": ".py",
   "mimetype": "text/x-python",
   "name": "python",
   "nbconvert_exporter": "python",
   "pygments_lexer": "ipython3",
   "version": "3.12.0"
  }
 },
 "nbformat": 4,
 "nbformat_minor": 2
}
